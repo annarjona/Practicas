{
  "nbformat": 4,
  "nbformat_minor": 0,
  "metadata": {
    "colab": {
      "name": "Practica1.ipynb",
      "provenance": [],
      "collapsed_sections": []
    },
    "kernelspec": {
      "name": "python3",
      "display_name": "Python 3"
    }
  },
  "cells": [
    {
      "cell_type": "code",
      "metadata": {
        "id": "-NFihFNtK8xe",
        "colab_type": "code",
        "colab": {}
      },
      "source": [
        "import pandas as pd"
      ],
      "execution_count": 0,
      "outputs": []
    },
    {
      "cell_type": "code",
      "metadata": {
        "id": "2TrqvLXt5U4N",
        "colab_type": "code",
        "colab": {}
      },
      "source": [
        "import numpy as np"
      ],
      "execution_count": 0,
      "outputs": []
    },
    {
      "cell_type": "code",
      "metadata": {
        "id": "zROtoR0f5iuV",
        "colab_type": "code",
        "colab": {}
      },
      "source": [
        "import missingno as msno"
      ],
      "execution_count": 0,
      "outputs": []
    },
    {
      "cell_type": "code",
      "metadata": {
        "id": "sHMCEnPw5naS",
        "colab_type": "code",
        "colab": {}
      },
      "source": [
        "#Datos desestacionalizados https://www.inegi.org.mx/app/tabulados/default.html?nc=609 "
      ],
      "execution_count": 0,
      "outputs": []
    },
    {
      "cell_type": "code",
      "metadata": {
        "id": "yhT9hJ7i7Bq9",
        "colab_type": "code",
        "colab": {
          "base_uri": "https://localhost:8080/",
          "height": 204
        },
        "outputId": "5a6a4ba5-4672-42d7-ed6b-81b033f263ac"
      },
      "source": [
        "path = 'Tabulado Desestacionalizadas.csv'\n",
        "df = pd.read_csv(path, encoding='latin', error_bad_lines=False)\n",
        "df.head()"
      ],
      "execution_count": 8,
      "outputs": [
        {
          "output_type": "execute_result",
          "data": {
            "text/html": [
              "<div>\n",
              "<style scoped>\n",
              "    .dataframe tbody tr th:only-of-type {\n",
              "        vertical-align: middle;\n",
              "    }\n",
              "\n",
              "    .dataframe tbody tr th {\n",
              "        vertical-align: top;\n",
              "    }\n",
              "\n",
              "    .dataframe thead th {\n",
              "        text-align: right;\n",
              "    }\n",
              "</style>\n",
              "<table border=\"1\" class=\"dataframe\">\n",
              "  <thead>\n",
              "    <tr style=\"text-align: right;\">\n",
              "      <th></th>\n",
              "      <th>Periodo</th>\n",
              "      <th>Total</th>\n",
              "      <th>Hombres</th>\n",
              "      <th>Mujeres</th>\n",
              "    </tr>\n",
              "  </thead>\n",
              "  <tbody>\n",
              "    <tr>\n",
              "      <th>0</th>\n",
              "      <td>2016</td>\n",
              "      <td>NaN</td>\n",
              "      <td>NaN</td>\n",
              "      <td>NaN</td>\n",
              "    </tr>\n",
              "    <tr>\n",
              "      <th>1</th>\n",
              "      <td>I</td>\n",
              "      <td>10.513823</td>\n",
              "      <td>7.906017</td>\n",
              "      <td>14.668463</td>\n",
              "    </tr>\n",
              "    <tr>\n",
              "      <th>2</th>\n",
              "      <td>II</td>\n",
              "      <td>9.800348</td>\n",
              "      <td>7.312559</td>\n",
              "      <td>13.934920</td>\n",
              "    </tr>\n",
              "    <tr>\n",
              "      <th>3</th>\n",
              "      <td>III</td>\n",
              "      <td>9.844946</td>\n",
              "      <td>7.176555</td>\n",
              "      <td>14.125082</td>\n",
              "    </tr>\n",
              "    <tr>\n",
              "      <th>4</th>\n",
              "      <td>IV</td>\n",
              "      <td>9.477013</td>\n",
              "      <td>6.972421</td>\n",
              "      <td>13.473800</td>\n",
              "    </tr>\n",
              "  </tbody>\n",
              "</table>\n",
              "</div>"
            ],
            "text/plain": [
              "  Periodo      Total   Hombres    Mujeres\n",
              "0    2016        NaN       NaN        NaN\n",
              "1       I  10.513823  7.906017  14.668463\n",
              "2      II   9.800348  7.312559  13.934920\n",
              "3     III   9.844946  7.176555  14.125082\n",
              "4      IV   9.477013  6.972421  13.473800"
            ]
          },
          "metadata": {
            "tags": []
          },
          "execution_count": 8
        }
      ]
    },
    {
      "cell_type": "code",
      "metadata": {
        "id": "ySuqrxW19fAI",
        "colab_type": "code",
        "colab": {
          "base_uri": "https://localhost:8080/",
          "height": 170
        },
        "outputId": "2edeaf5d-6ef6-4449-8ed7-244221b3461a"
      },
      "source": [
        "df.info()"
      ],
      "execution_count": 9,
      "outputs": [
        {
          "output_type": "stream",
          "text": [
            "<class 'pandas.core.frame.DataFrame'>\n",
            "RangeIndex: 21 entries, 0 to 20\n",
            "Data columns (total 4 columns):\n",
            "Periodo    21 non-null object\n",
            "Total      16 non-null float64\n",
            "Hombres    16 non-null float64\n",
            "Mujeres    16 non-null float64\n",
            "dtypes: float64(3), object(1)\n",
            "memory usage: 800.0+ bytes\n"
          ],
          "name": "stdout"
        }
      ]
    },
    {
      "cell_type": "code",
      "metadata": {
        "id": "qQDXpBSS9tFH",
        "colab_type": "code",
        "colab": {
          "base_uri": "https://localhost:8080/",
          "height": 34
        },
        "outputId": "14744815-fb86-4636-fcf7-5f882ad919de"
      },
      "source": [
        "df.shape"
      ],
      "execution_count": 10,
      "outputs": [
        {
          "output_type": "execute_result",
          "data": {
            "text/plain": [
              "(21, 4)"
            ]
          },
          "metadata": {
            "tags": []
          },
          "execution_count": 10
        }
      ]
    },
    {
      "cell_type": "code",
      "metadata": {
        "id": "20w2gxII9w8H",
        "colab_type": "code",
        "colab": {
          "base_uri": "https://localhost:8080/",
          "height": 34
        },
        "outputId": "e1a401a0-93f6-4b06-a521-5d636c1d6aa7"
      },
      "source": [
        "df.shape[0]"
      ],
      "execution_count": 11,
      "outputs": [
        {
          "output_type": "execute_result",
          "data": {
            "text/plain": [
              "21"
            ]
          },
          "metadata": {
            "tags": []
          },
          "execution_count": 11
        }
      ]
    },
    {
      "cell_type": "code",
      "metadata": {
        "id": "mzVb20hp-OYE",
        "colab_type": "code",
        "colab": {
          "base_uri": "https://localhost:8080/",
          "height": 34
        },
        "outputId": "f8f506e5-e89e-4d96-8755-935505596ec8"
      },
      "source": [
        "df.shape[1]"
      ],
      "execution_count": 12,
      "outputs": [
        {
          "output_type": "execute_result",
          "data": {
            "text/plain": [
              "4"
            ]
          },
          "metadata": {
            "tags": []
          },
          "execution_count": 12
        }
      ]
    },
    {
      "cell_type": "code",
      "metadata": {
        "id": "EEOhF8K1-UyC",
        "colab_type": "code",
        "colab": {
          "base_uri": "https://localhost:8080/",
          "height": 34
        },
        "outputId": "7eb8cac6-54ea-4a58-bc6f-87f363748a84"
      },
      "source": [
        "df.columns.values.tolist()"
      ],
      "execution_count": 15,
      "outputs": [
        {
          "output_type": "execute_result",
          "data": {
            "text/plain": [
              "['Periodo', 'Total', 'Hombres', 'Mujeres']"
            ]
          },
          "metadata": {
            "tags": []
          },
          "execution_count": 15
        }
      ]
    },
    {
      "cell_type": "code",
      "metadata": {
        "id": "lV0a87ga-k2_",
        "colab_type": "code",
        "colab": {
          "base_uri": "https://localhost:8080/",
          "height": 102
        },
        "outputId": "eb2541a7-501d-44fb-fb0c-426a29fa7a5e"
      },
      "source": [
        "df.dtypes"
      ],
      "execution_count": 16,
      "outputs": [
        {
          "output_type": "execute_result",
          "data": {
            "text/plain": [
              "Periodo     object\n",
              "Total      float64\n",
              "Hombres    float64\n",
              "Mujeres    float64\n",
              "dtype: object"
            ]
          },
          "metadata": {
            "tags": []
          },
          "execution_count": 16
        }
      ]
    },
    {
      "cell_type": "code",
      "metadata": {
        "id": "I5gSeQtQ-tEc",
        "colab_type": "code",
        "colab": {
          "base_uri": "https://localhost:8080/",
          "height": 34
        },
        "outputId": "82223834-6c06-4f66-e268-648fff66f127"
      },
      "source": [
        "df.isnull().any().any()"
      ],
      "execution_count": 18,
      "outputs": [
        {
          "output_type": "execute_result",
          "data": {
            "text/plain": [
              "True"
            ]
          },
          "metadata": {
            "tags": []
          },
          "execution_count": 18
        }
      ]
    },
    {
      "cell_type": "code",
      "metadata": {
        "id": "hZy5lLKi_bQX",
        "colab_type": "code",
        "colab": {
          "base_uri": "https://localhost:8080/",
          "height": 687
        },
        "outputId": "964154e6-f46c-442b-9e71-ef4495854a9d"
      },
      "source": [
        "msno.matrix(df)"
      ],
      "execution_count": 19,
      "outputs": [
        {
          "output_type": "execute_result",
          "data": {
            "text/plain": [
              "<matplotlib.axes._subplots.AxesSubplot at 0x7f135b5185f8>"
            ]
          },
          "metadata": {
            "tags": []
          },
          "execution_count": 19
        },
        {
          "output_type": "display_data",
          "data": {
            "image/png": "[encoded data removed]",
            "text/plain": [
              "<Figure size 1800x720 with 2 Axes>"
            ]
          },
          "metadata": {
            "tags": []
          }
        }
      ]
    },
    {
      "cell_type": "code",
      "metadata": {
        "id": "Sn1uaIfz_neg",
        "colab_type": "code",
        "colab": {}
      },
      "source": [
        "df.replace({' ': np.nan}, inplace=True)"
      ],
      "execution_count": 0,
      "outputs": []
    },
    {
      "cell_type": "code",
      "metadata": {
        "id": "BcTzU4ypAU-M",
        "colab_type": "code",
        "colab": {
          "base_uri": "https://localhost:8080/",
          "height": 34
        },
        "outputId": "71bd765f-57a8-463a-d08c-a3bc0f917bd5"
      },
      "source": [
        "df.isnull().any().any()"
      ],
      "execution_count": 21,
      "outputs": [
        {
          "output_type": "execute_result",
          "data": {
            "text/plain": [
              "True"
            ]
          },
          "metadata": {
            "tags": []
          },
          "execution_count": 21
        }
      ]
    },
    {
      "cell_type": "code",
      "metadata": {
        "id": "GG8NmZwaAqBH",
        "colab_type": "code",
        "colab": {
          "base_uri": "https://localhost:8080/",
          "height": 687
        },
        "outputId": "34626ed1-c8c7-41e3-f7d5-f7efddb9f1a0"
      },
      "source": [
        "msno.matrix(df)"
      ],
      "execution_count": 22,
      "outputs": [
        {
          "output_type": "execute_result",
          "data": {
            "text/plain": [
              "<matplotlib.axes._subplots.AxesSubplot at 0x7f13585b0048>"
            ]
          },
          "metadata": {
            "tags": []
          },
          "execution_count": 22
        },
        {
          "output_type": "display_data",
          "data": {
            "image/png": "[encoded data removed]",
            "text/plain": [
              "<Figure size 1800x720 with 2 Axes>"
            ]
          },
          "metadata": {
            "tags": []
          }
        }
      ]
    },
    {
      "cell_type": "code",
      "metadata": {
        "id": "ZuXQw5gqAyqk",
        "colab_type": "code",
        "colab": {
          "base_uri": "https://localhost:8080/",
          "height": 712
        },
        "outputId": "ca70a8e4-91c4-446a-e6fc-c9f0ab9e4849"
      },
      "source": [
        "msno.bar(df)"
      ],
      "execution_count": 23,
      "outputs": [
        {
          "output_type": "execute_result",
          "data": {
            "text/plain": [
              "<matplotlib.axes._subplots.AxesSubplot at 0x7f13585ab748>"
            ]
          },
          "metadata": {
            "tags": []
          },
          "execution_count": 23
        },
        {
          "output_type": "display_data",
          "data": {
            "image/png": "[encoded data removed]",
            "text/plain": [
              "<Figure size 1728x720 with 3 Axes>"
            ]
          },
          "metadata": {
            "tags": []
          }
        }
      ]
    },
    {
      "cell_type": "code",
      "metadata": {
        "id": "M5Cg4qiHA_Mx",
        "colab_type": "code",
        "colab": {
          "base_uri": "https://localhost:8080/",
          "height": 34
        },
        "outputId": "63628c77-db9a-4ef6-cbde-61a9562ec0ea"
      },
      "source": [
        "df.columns[df.isnull().any()].tolist()"
      ],
      "execution_count": 24,
      "outputs": [
        {
          "output_type": "execute_result",
          "data": {
            "text/plain": [
              "['Total', 'Hombres', 'Mujeres']"
            ]
          },
          "metadata": {
            "tags": []
          },
          "execution_count": 24
        }
      ]
    },
    {
      "cell_type": "code",
      "metadata": {
        "id": "Q6XB0EVKBmd6",
        "colab_type": "code",
        "colab": {
          "base_uri": "https://localhost:8080/",
          "height": 297
        },
        "outputId": "b65a354d-aae9-420a-dab7-11a2936221c8"
      },
      "source": [
        "df.describe()"
      ],
      "execution_count": 25,
      "outputs": [
        {
          "output_type": "execute_result",
          "data": {
            "text/html": [
              "<div>\n",
              "<style scoped>\n",
              "    .dataframe tbody tr th:only-of-type {\n",
              "        vertical-align: middle;\n",
              "    }\n",
              "\n",
              "    .dataframe tbody tr th {\n",
              "        vertical-align: top;\n",
              "    }\n",
              "\n",
              "    .dataframe thead th {\n",
              "        text-align: right;\n",
              "    }\n",
              "</style>\n",
              "<table border=\"1\" class=\"dataframe\">\n",
              "  <thead>\n",
              "    <tr style=\"text-align: right;\">\n",
              "      <th></th>\n",
              "      <th>Total</th>\n",
              "      <th>Hombres</th>\n",
              "      <th>Mujeres</th>\n",
              "    </tr>\n",
              "  </thead>\n",
              "  <tbody>\n",
              "    <tr>\n",
              "      <th>count</th>\n",
              "      <td>16.000000</td>\n",
              "      <td>16.000000</td>\n",
              "      <td>16.000000</td>\n",
              "    </tr>\n",
              "    <tr>\n",
              "      <th>mean</th>\n",
              "      <td>9.408800</td>\n",
              "      <td>6.873807</td>\n",
              "      <td>13.469412</td>\n",
              "    </tr>\n",
              "    <tr>\n",
              "      <th>std</th>\n",
              "      <td>0.395134</td>\n",
              "      <td>0.365744</td>\n",
              "      <td>0.453706</td>\n",
              "    </tr>\n",
              "    <tr>\n",
              "      <th>min</th>\n",
              "      <td>8.992251</td>\n",
              "      <td>6.450159</td>\n",
              "      <td>13.017456</td>\n",
              "    </tr>\n",
              "    <tr>\n",
              "      <th>25%</th>\n",
              "      <td>9.123903</td>\n",
              "      <td>6.612742</td>\n",
              "      <td>13.135323</td>\n",
              "    </tr>\n",
              "    <tr>\n",
              "      <th>50%</th>\n",
              "      <td>9.304487</td>\n",
              "      <td>6.770704</td>\n",
              "      <td>13.376541</td>\n",
              "    </tr>\n",
              "    <tr>\n",
              "      <th>75%</th>\n",
              "      <td>9.556995</td>\n",
              "      <td>6.987083</td>\n",
              "      <td>13.585725</td>\n",
              "    </tr>\n",
              "    <tr>\n",
              "      <th>max</th>\n",
              "      <td>10.513823</td>\n",
              "      <td>7.906017</td>\n",
              "      <td>14.668463</td>\n",
              "    </tr>\n",
              "  </tbody>\n",
              "</table>\n",
              "</div>"
            ],
            "text/plain": [
              "           Total    Hombres    Mujeres\n",
              "count  16.000000  16.000000  16.000000\n",
              "mean    9.408800   6.873807  13.469412\n",
              "std     0.395134   0.365744   0.453706\n",
              "min     8.992251   6.450159  13.017456\n",
              "25%     9.123903   6.612742  13.135323\n",
              "50%     9.304487   6.770704  13.376541\n",
              "75%     9.556995   6.987083  13.585725\n",
              "max    10.513823   7.906017  14.668463"
            ]
          },
          "metadata": {
            "tags": []
          },
          "execution_count": 25
        }
      ]
    },
    {
      "cell_type": "code",
      "metadata": {
        "id": "QVsuRUK6Bvxi",
        "colab_type": "code",
        "colab": {
          "base_uri": "https://localhost:8080/",
          "height": 80
        },
        "outputId": "ea0e990b-c4d1-475e-8ca3-70117b7c8ddd"
      },
      "source": [
        "df.loc[[0]]"
      ],
      "execution_count": 27,
      "outputs": [
        {
          "output_type": "execute_result",
          "data": {
            "text/html": [
              "<div>\n",
              "<style scoped>\n",
              "    .dataframe tbody tr th:only-of-type {\n",
              "        vertical-align: middle;\n",
              "    }\n",
              "\n",
              "    .dataframe tbody tr th {\n",
              "        vertical-align: top;\n",
              "    }\n",
              "\n",
              "    .dataframe thead th {\n",
              "        text-align: right;\n",
              "    }\n",
              "</style>\n",
              "<table border=\"1\" class=\"dataframe\">\n",
              "  <thead>\n",
              "    <tr style=\"text-align: right;\">\n",
              "      <th></th>\n",
              "      <th>Periodo</th>\n",
              "      <th>Total</th>\n",
              "      <th>Hombres</th>\n",
              "      <th>Mujeres</th>\n",
              "    </tr>\n",
              "  </thead>\n",
              "  <tbody>\n",
              "    <tr>\n",
              "      <th>0</th>\n",
              "      <td>2016</td>\n",
              "      <td>NaN</td>\n",
              "      <td>NaN</td>\n",
              "      <td>NaN</td>\n",
              "    </tr>\n",
              "  </tbody>\n",
              "</table>\n",
              "</div>"
            ],
            "text/plain": [
              "  Periodo  Total  Hombres  Mujeres\n",
              "0    2016    NaN      NaN      NaN"
            ]
          },
          "metadata": {
            "tags": []
          },
          "execution_count": 27
        }
      ]
    },
    {
      "cell_type": "code",
      "metadata": {
        "id": "uzyoiJgRB5uY",
        "colab_type": "code",
        "colab": {
          "base_uri": "https://localhost:8080/",
          "height": 142
        },
        "outputId": "119b9b26-3933-499b-b4a1-2a289a5e3e53"
      },
      "source": [
        "df.loc[3:5]"
      ],
      "execution_count": 29,
      "outputs": [
        {
          "output_type": "execute_result",
          "data": {
            "text/html": [
              "<div>\n",
              "<style scoped>\n",
              "    .dataframe tbody tr th:only-of-type {\n",
              "        vertical-align: middle;\n",
              "    }\n",
              "\n",
              "    .dataframe tbody tr th {\n",
              "        vertical-align: top;\n",
              "    }\n",
              "\n",
              "    .dataframe thead th {\n",
              "        text-align: right;\n",
              "    }\n",
              "</style>\n",
              "<table border=\"1\" class=\"dataframe\">\n",
              "  <thead>\n",
              "    <tr style=\"text-align: right;\">\n",
              "      <th></th>\n",
              "      <th>Periodo</th>\n",
              "      <th>Total</th>\n",
              "      <th>Hombres</th>\n",
              "      <th>Mujeres</th>\n",
              "    </tr>\n",
              "  </thead>\n",
              "  <tbody>\n",
              "    <tr>\n",
              "      <th>3</th>\n",
              "      <td>III</td>\n",
              "      <td>9.844946</td>\n",
              "      <td>7.176555</td>\n",
              "      <td>14.125082</td>\n",
              "    </tr>\n",
              "    <tr>\n",
              "      <th>4</th>\n",
              "      <td>IV</td>\n",
              "      <td>9.477013</td>\n",
              "      <td>6.972421</td>\n",
              "      <td>13.473800</td>\n",
              "    </tr>\n",
              "    <tr>\n",
              "      <th>5</th>\n",
              "      <td>2017</td>\n",
              "      <td>NaN</td>\n",
              "      <td>NaN</td>\n",
              "      <td>NaN</td>\n",
              "    </tr>\n",
              "  </tbody>\n",
              "</table>\n",
              "</div>"
            ],
            "text/plain": [
              "  Periodo     Total   Hombres    Mujeres\n",
              "3     III  9.844946  7.176555  14.125082\n",
              "4      IV  9.477013  6.972421  13.473800\n",
              "5    2017       NaN       NaN        NaN"
            ]
          },
          "metadata": {
            "tags": []
          },
          "execution_count": 29
        }
      ]
    },
    {
      "cell_type": "code",
      "metadata": {
        "id": "VsKag-VHCGs6",
        "colab_type": "code",
        "colab": {
          "base_uri": "https://localhost:8080/",
          "height": 204
        },
        "outputId": "8e1da6b0-f5a5-4c4e-91f4-52bccdc4ff34"
      },
      "source": [
        "df.drop([0,3,4], axis=0).head()"
      ],
      "execution_count": 30,
      "outputs": [
        {
          "output_type": "execute_result",
          "data": {
            "text/html": [
              "<div>\n",
              "<style scoped>\n",
              "    .dataframe tbody tr th:only-of-type {\n",
              "        vertical-align: middle;\n",
              "    }\n",
              "\n",
              "    .dataframe tbody tr th {\n",
              "        vertical-align: top;\n",
              "    }\n",
              "\n",
              "    .dataframe thead th {\n",
              "        text-align: right;\n",
              "    }\n",
              "</style>\n",
              "<table border=\"1\" class=\"dataframe\">\n",
              "  <thead>\n",
              "    <tr style=\"text-align: right;\">\n",
              "      <th></th>\n",
              "      <th>Periodo</th>\n",
              "      <th>Total</th>\n",
              "      <th>Hombres</th>\n",
              "      <th>Mujeres</th>\n",
              "    </tr>\n",
              "  </thead>\n",
              "  <tbody>\n",
              "    <tr>\n",
              "      <th>1</th>\n",
              "      <td>I</td>\n",
              "      <td>10.513823</td>\n",
              "      <td>7.906017</td>\n",
              "      <td>14.668463</td>\n",
              "    </tr>\n",
              "    <tr>\n",
              "      <th>2</th>\n",
              "      <td>II</td>\n",
              "      <td>9.800348</td>\n",
              "      <td>7.312559</td>\n",
              "      <td>13.934920</td>\n",
              "    </tr>\n",
              "    <tr>\n",
              "      <th>5</th>\n",
              "      <td>2017</td>\n",
              "      <td>NaN</td>\n",
              "      <td>NaN</td>\n",
              "      <td>NaN</td>\n",
              "    </tr>\n",
              "    <tr>\n",
              "      <th>6</th>\n",
              "      <td>I</td>\n",
              "      <td>9.221256</td>\n",
              "      <td>6.660866</td>\n",
              "      <td>13.368390</td>\n",
              "    </tr>\n",
              "    <tr>\n",
              "      <th>7</th>\n",
              "      <td>II</td>\n",
              "      <td>9.265432</td>\n",
              "      <td>6.762594</td>\n",
              "      <td>13.418089</td>\n",
              "    </tr>\n",
              "  </tbody>\n",
              "</table>\n",
              "</div>"
            ],
            "text/plain": [
              "  Periodo      Total   Hombres    Mujeres\n",
              "1       I  10.513823  7.906017  14.668463\n",
              "2      II   9.800348  7.312559  13.934920\n",
              "5    2017        NaN       NaN        NaN\n",
              "6       I   9.221256  6.660866  13.368390\n",
              "7      II   9.265432  6.762594  13.418089"
            ]
          },
          "metadata": {
            "tags": []
          },
          "execution_count": 30
        }
      ]
    },
    {
      "cell_type": "code",
      "metadata": {
        "id": "iRflGdyBCefR",
        "colab_type": "code",
        "colab": {
          "base_uri": "https://localhost:8080/",
          "height": 359
        },
        "outputId": "42b81679-61cb-46e0-e67d-bf39b84f20d6"
      },
      "source": [
        "df.drop(df.index[1:5], axis=0).head(10)"
      ],
      "execution_count": 31,
      "outputs": [
        {
          "output_type": "execute_result",
          "data": {
            "text/html": [
              "<div>\n",
              "<style scoped>\n",
              "    .dataframe tbody tr th:only-of-type {\n",
              "        vertical-align: middle;\n",
              "    }\n",
              "\n",
              "    .dataframe tbody tr th {\n",
              "        vertical-align: top;\n",
              "    }\n",
              "\n",
              "    .dataframe thead th {\n",
              "        text-align: right;\n",
              "    }\n",
              "</style>\n",
              "<table border=\"1\" class=\"dataframe\">\n",
              "  <thead>\n",
              "    <tr style=\"text-align: right;\">\n",
              "      <th></th>\n",
              "      <th>Periodo</th>\n",
              "      <th>Total</th>\n",
              "      <th>Hombres</th>\n",
              "      <th>Mujeres</th>\n",
              "    </tr>\n",
              "  </thead>\n",
              "  <tbody>\n",
              "    <tr>\n",
              "      <th>0</th>\n",
              "      <td>2016</td>\n",
              "      <td>NaN</td>\n",
              "      <td>NaN</td>\n",
              "      <td>NaN</td>\n",
              "    </tr>\n",
              "    <tr>\n",
              "      <th>5</th>\n",
              "      <td>2017</td>\n",
              "      <td>NaN</td>\n",
              "      <td>NaN</td>\n",
              "      <td>NaN</td>\n",
              "    </tr>\n",
              "    <tr>\n",
              "      <th>6</th>\n",
              "      <td>I</td>\n",
              "      <td>9.221256</td>\n",
              "      <td>6.660866</td>\n",
              "      <td>13.368390</td>\n",
              "    </tr>\n",
              "    <tr>\n",
              "      <th>7</th>\n",
              "      <td>II</td>\n",
              "      <td>9.265432</td>\n",
              "      <td>6.762594</td>\n",
              "      <td>13.418089</td>\n",
              "    </tr>\n",
              "    <tr>\n",
              "      <th>8</th>\n",
              "      <td>III</td>\n",
              "      <td>9.226497</td>\n",
              "      <td>6.732540</td>\n",
              "      <td>13.255442</td>\n",
              "    </tr>\n",
              "    <tr>\n",
              "      <th>9</th>\n",
              "      <td>IV</td>\n",
              "      <td>9.100439</td>\n",
              "      <td>6.599895</td>\n",
              "      <td>13.116543</td>\n",
              "    </tr>\n",
              "    <tr>\n",
              "      <th>10</th>\n",
              "      <td>2018</td>\n",
              "      <td>NaN</td>\n",
              "      <td>NaN</td>\n",
              "      <td>NaN</td>\n",
              "    </tr>\n",
              "    <tr>\n",
              "      <th>11</th>\n",
              "      <td>I</td>\n",
              "      <td>9.034342</td>\n",
              "      <td>6.558011</td>\n",
              "      <td>13.055288</td>\n",
              "    </tr>\n",
              "    <tr>\n",
              "      <th>12</th>\n",
              "      <td>II</td>\n",
              "      <td>9.025336</td>\n",
              "      <td>6.543322</td>\n",
              "      <td>13.083226</td>\n",
              "    </tr>\n",
              "    <tr>\n",
              "      <th>13</th>\n",
              "      <td>III</td>\n",
              "      <td>8.992251</td>\n",
              "      <td>6.450159</td>\n",
              "      <td>13.017456</td>\n",
              "    </tr>\n",
              "  </tbody>\n",
              "</table>\n",
              "</div>"
            ],
            "text/plain": [
              "   Periodo     Total   Hombres    Mujeres\n",
              "0     2016       NaN       NaN        NaN\n",
              "5     2017       NaN       NaN        NaN\n",
              "6        I  9.221256  6.660866  13.368390\n",
              "7       II  9.265432  6.762594  13.418089\n",
              "8      III  9.226497  6.732540  13.255442\n",
              "9       IV  9.100439  6.599895  13.116543\n",
              "10    2018       NaN       NaN        NaN\n",
              "11       I  9.034342  6.558011  13.055288\n",
              "12      II  9.025336  6.543322  13.083226\n",
              "13     III  8.992251  6.450159  13.017456"
            ]
          },
          "metadata": {
            "tags": []
          },
          "execution_count": 31
        }
      ]
    },
    {
      "cell_type": "code",
      "metadata": {
        "id": "GIW0pIa_Cu18",
        "colab_type": "code",
        "colab": {
          "base_uri": "https://localhost:8080/",
          "height": 204
        },
        "outputId": "ecf0b1d2-f9e1-405b-909d-d4df498211e6"
      },
      "source": [
        "df[10:].head() "
      ],
      "execution_count": 33,
      "outputs": [
        {
          "output_type": "execute_result",
          "data": {
            "text/html": [
              "<div>\n",
              "<style scoped>\n",
              "    .dataframe tbody tr th:only-of-type {\n",
              "        vertical-align: middle;\n",
              "    }\n",
              "\n",
              "    .dataframe tbody tr th {\n",
              "        vertical-align: top;\n",
              "    }\n",
              "\n",
              "    .dataframe thead th {\n",
              "        text-align: right;\n",
              "    }\n",
              "</style>\n",
              "<table border=\"1\" class=\"dataframe\">\n",
              "  <thead>\n",
              "    <tr style=\"text-align: right;\">\n",
              "      <th></th>\n",
              "      <th>Periodo</th>\n",
              "      <th>Total</th>\n",
              "      <th>Hombres</th>\n",
              "      <th>Mujeres</th>\n",
              "    </tr>\n",
              "  </thead>\n",
              "  <tbody>\n",
              "    <tr>\n",
              "      <th>10</th>\n",
              "      <td>2018</td>\n",
              "      <td>NaN</td>\n",
              "      <td>NaN</td>\n",
              "      <td>NaN</td>\n",
              "    </tr>\n",
              "    <tr>\n",
              "      <th>11</th>\n",
              "      <td>I</td>\n",
              "      <td>9.034342</td>\n",
              "      <td>6.558011</td>\n",
              "      <td>13.055288</td>\n",
              "    </tr>\n",
              "    <tr>\n",
              "      <th>12</th>\n",
              "      <td>II</td>\n",
              "      <td>9.025336</td>\n",
              "      <td>6.543322</td>\n",
              "      <td>13.083226</td>\n",
              "    </tr>\n",
              "    <tr>\n",
              "      <th>13</th>\n",
              "      <td>III</td>\n",
              "      <td>8.992251</td>\n",
              "      <td>6.450159</td>\n",
              "      <td>13.017456</td>\n",
              "    </tr>\n",
              "    <tr>\n",
              "      <th>14</th>\n",
              "      <td>IV</td>\n",
              "      <td>9.131725</td>\n",
              "      <td>6.617025</td>\n",
              "      <td>13.141582</td>\n",
              "    </tr>\n",
              "  </tbody>\n",
              "</table>\n",
              "</div>"
            ],
            "text/plain": [
              "   Periodo     Total   Hombres    Mujeres\n",
              "10    2018       NaN       NaN        NaN\n",
              "11       I  9.034342  6.558011  13.055288\n",
              "12      II  9.025336  6.543322  13.083226\n",
              "13     III  8.992251  6.450159  13.017456\n",
              "14      IV  9.131725  6.617025  13.141582"
            ]
          },
          "metadata": {
            "tags": []
          },
          "execution_count": 33
        }
      ]
    },
    {
      "cell_type": "code",
      "metadata": {
        "id": "OuW1TcQSDI3o",
        "colab_type": "code",
        "colab": {
          "base_uri": "https://localhost:8080/",
          "height": 102
        },
        "outputId": "c2fca3d2-c6a8-42ac-8016-6f92b796bca0"
      },
      "source": [
        "df.Total.values"
      ],
      "execution_count": 35,
      "outputs": [
        {
          "output_type": "execute_result",
          "data": {
            "text/plain": [
              "array([        nan, 10.51382324,  9.8003479 ,  9.8449464 ,  9.47701279,\n",
              "               nan,  9.2212559 ,  9.26543181,  9.22649736,  9.10043904,\n",
              "               nan,  9.03434159,  9.02533588,  8.99225119,  9.13172481,\n",
              "               nan,  9.34354129,  9.56499737,  9.44452427,  9.55432702,\n",
              "               nan])"
            ]
          },
          "metadata": {
            "tags": []
          },
          "execution_count": 35
        }
      ]
    },
    {
      "cell_type": "code",
      "metadata": {
        "id": "YSWZknJ0DUPR",
        "colab_type": "code",
        "colab": {
          "base_uri": "https://localhost:8080/",
          "height": 102
        },
        "outputId": "e375676e-a70a-458f-f4a3-2b4810098084"
      },
      "source": [
        "df['Total'].values"
      ],
      "execution_count": 36,
      "outputs": [
        {
          "output_type": "execute_result",
          "data": {
            "text/plain": [
              "array([        nan, 10.51382324,  9.8003479 ,  9.8449464 ,  9.47701279,\n",
              "               nan,  9.2212559 ,  9.26543181,  9.22649736,  9.10043904,\n",
              "               nan,  9.03434159,  9.02533588,  8.99225119,  9.13172481,\n",
              "               nan,  9.34354129,  9.56499737,  9.44452427,  9.55432702,\n",
              "               nan])"
            ]
          },
          "metadata": {
            "tags": []
          },
          "execution_count": 36
        }
      ]
    },
    {
      "cell_type": "code",
      "metadata": {
        "id": "X7e6MnCFDcYk",
        "colab_type": "code",
        "colab": {
          "base_uri": "https://localhost:8080/",
          "height": 85
        },
        "outputId": "c5bc488c-033e-4869-adf3-b91f057ec376"
      },
      "source": [
        "df.Total.unique()"
      ],
      "execution_count": 37,
      "outputs": [
        {
          "output_type": "execute_result",
          "data": {
            "text/plain": [
              "array([        nan, 10.51382324,  9.8003479 ,  9.8449464 ,  9.47701279,\n",
              "        9.2212559 ,  9.26543181,  9.22649736,  9.10043904,  9.03434159,\n",
              "        9.02533588,  8.99225119,  9.13172481,  9.34354129,  9.56499737,\n",
              "        9.44452427,  9.55432702])"
            ]
          },
          "metadata": {
            "tags": []
          },
          "execution_count": 37
        }
      ]
    },
    {
      "cell_type": "code",
      "metadata": {
        "id": "8RznQx5_Dkx9",
        "colab_type": "code",
        "colab": {
          "base_uri": "https://localhost:8080/",
          "height": 306
        },
        "outputId": "b00411e2-3c7c-4694-bb33-229cc82cffdc"
      },
      "source": [
        "df.Total.value_counts()"
      ],
      "execution_count": 38,
      "outputs": [
        {
          "output_type": "execute_result",
          "data": {
            "text/plain": [
              "9.131725     1\n",
              "9.554327     1\n",
              "9.265432     1\n",
              "8.992251     1\n",
              "9.226497     1\n",
              "9.343541     1\n",
              "9.025336     1\n",
              "9.844946     1\n",
              "9.221256     1\n",
              "9.100439     1\n",
              "9.800348     1\n",
              "9.564997     1\n",
              "10.513823    1\n",
              "9.477013     1\n",
              "9.034342     1\n",
              "9.444524     1\n",
              "Name: Total, dtype: int64"
            ]
          },
          "metadata": {
            "tags": []
          },
          "execution_count": 38
        }
      ]
    },
    {
      "cell_type": "code",
      "metadata": {
        "id": "DsBYkfB4D4wo",
        "colab_type": "code",
        "colab": {
          "base_uri": "https://localhost:8080/",
          "height": 159
        },
        "outputId": "4e4905ed-500f-406c-bf0b-60a0d11cf714"
      },
      "source": [
        "df.agg(['count','size','unique'])"
      ],
      "execution_count": 39,
      "outputs": [
        {
          "output_type": "execute_result",
          "data": {
            "text/html": [
              "<div>\n",
              "<style scoped>\n",
              "    .dataframe tbody tr th:only-of-type {\n",
              "        vertical-align: middle;\n",
              "    }\n",
              "\n",
              "    .dataframe tbody tr th {\n",
              "        vertical-align: top;\n",
              "    }\n",
              "\n",
              "    .dataframe thead th {\n",
              "        text-align: right;\n",
              "    }\n",
              "</style>\n",
              "<table border=\"1\" class=\"dataframe\">\n",
              "  <thead>\n",
              "    <tr style=\"text-align: right;\">\n",
              "      <th></th>\n",
              "      <th>Periodo</th>\n",
              "      <th>Total</th>\n",
              "      <th>Hombres</th>\n",
              "      <th>Mujeres</th>\n",
              "    </tr>\n",
              "  </thead>\n",
              "  <tbody>\n",
              "    <tr>\n",
              "      <th>count</th>\n",
              "      <td>21</td>\n",
              "      <td>16</td>\n",
              "      <td>16</td>\n",
              "      <td>16</td>\n",
              "    </tr>\n",
              "    <tr>\n",
              "      <th>size</th>\n",
              "      <td>21</td>\n",
              "      <td>21</td>\n",
              "      <td>21</td>\n",
              "      <td>21</td>\n",
              "    </tr>\n",
              "    <tr>\n",
              "      <th>unique</th>\n",
              "      <td>[2016, I, II, III, IV, 2017, 2018, 2019, Nota:...</td>\n",
              "      <td>[nan, 10.513823238437, 9.800347901867, 9.84494...</td>\n",
              "      <td>[nan, 7.906017000028, 7.312559202038, 7.176554...</td>\n",
              "      <td>[nan, 14.668462913805001, 13.934920374011, 14....</td>\n",
              "    </tr>\n",
              "  </tbody>\n",
              "</table>\n",
              "</div>"
            ],
            "text/plain": [
              "                                                  Periodo  ...                                            Mujeres\n",
              "count                                                  21  ...                                                 16\n",
              "size                                                   21  ...                                                 21\n",
              "unique  [2016, I, II, III, IV, 2017, 2018, 2019, Nota:...  ...  [nan, 14.668462913805001, 13.934920374011, 14....\n",
              "\n",
              "[3 rows x 4 columns]"
            ]
          },
          "metadata": {
            "tags": []
          },
          "execution_count": 39
        }
      ]
    },
    {
      "cell_type": "code",
      "metadata": {
        "id": "8rK6h5dlEQ4U",
        "colab_type": "code",
        "colab": {
          "base_uri": "https://localhost:8080/",
          "height": 1000
        },
        "outputId": "61af9329-5ca8-4942-b526-00f2779abb44"
      },
      "source": [
        "df.groupby('Total').agg(['count', 'size', 'nunique']).stack()"
      ],
      "execution_count": 40,
      "outputs": [
        {
          "output_type": "execute_result",
          "data": {
            "text/html": [
              "<div>\n",
              "<style scoped>\n",
              "    .dataframe tbody tr th:only-of-type {\n",
              "        vertical-align: middle;\n",
              "    }\n",
              "\n",
              "    .dataframe tbody tr th {\n",
              "        vertical-align: top;\n",
              "    }\n",
              "\n",
              "    .dataframe thead th {\n",
              "        text-align: right;\n",
              "    }\n",
              "</style>\n",
              "<table border=\"1\" class=\"dataframe\">\n",
              "  <thead>\n",
              "    <tr style=\"text-align: right;\">\n",
              "      <th></th>\n",
              "      <th></th>\n",
              "      <th>Periodo</th>\n",
              "      <th>Hombres</th>\n",
              "      <th>Mujeres</th>\n",
              "    </tr>\n",
              "    <tr>\n",
              "      <th>Total</th>\n",
              "      <th></th>\n",
              "      <th></th>\n",
              "      <th></th>\n",
              "      <th></th>\n",
              "    </tr>\n",
              "  </thead>\n",
              "  <tbody>\n",
              "    <tr>\n",
              "      <th rowspan=\"3\" valign=\"top\">8.992251</th>\n",
              "      <th>count</th>\n",
              "      <td>1</td>\n",
              "      <td>1</td>\n",
              "      <td>1</td>\n",
              "    </tr>\n",
              "    <tr>\n",
              "      <th>size</th>\n",
              "      <td>1</td>\n",
              "      <td>1</td>\n",
              "      <td>1</td>\n",
              "    </tr>\n",
              "    <tr>\n",
              "      <th>nunique</th>\n",
              "      <td>1</td>\n",
              "      <td>1</td>\n",
              "      <td>1</td>\n",
              "    </tr>\n",
              "    <tr>\n",
              "      <th rowspan=\"3\" valign=\"top\">9.025336</th>\n",
              "      <th>count</th>\n",
              "      <td>1</td>\n",
              "      <td>1</td>\n",
              "      <td>1</td>\n",
              "    </tr>\n",
              "    <tr>\n",
              "      <th>size</th>\n",
              "      <td>1</td>\n",
              "      <td>1</td>\n",
              "      <td>1</td>\n",
              "    </tr>\n",
              "    <tr>\n",
              "      <th>nunique</th>\n",
              "      <td>1</td>\n",
              "      <td>1</td>\n",
              "      <td>1</td>\n",
              "    </tr>\n",
              "    <tr>\n",
              "      <th rowspan=\"3\" valign=\"top\">9.034342</th>\n",
              "      <th>count</th>\n",
              "      <td>1</td>\n",
              "      <td>1</td>\n",
              "      <td>1</td>\n",
              "    </tr>\n",
              "    <tr>\n",
              "      <th>size</th>\n",
              "      <td>1</td>\n",
              "      <td>1</td>\n",
              "      <td>1</td>\n",
              "    </tr>\n",
              "    <tr>\n",
              "      <th>nunique</th>\n",
              "      <td>1</td>\n",
              "      <td>1</td>\n",
              "      <td>1</td>\n",
              "    </tr>\n",
              "    <tr>\n",
              "      <th rowspan=\"3\" valign=\"top\">9.100439</th>\n",
              "      <th>count</th>\n",
              "      <td>1</td>\n",
              "      <td>1</td>\n",
              "      <td>1</td>\n",
              "    </tr>\n",
              "    <tr>\n",
              "      <th>size</th>\n",
              "      <td>1</td>\n",
              "      <td>1</td>\n",
              "      <td>1</td>\n",
              "    </tr>\n",
              "    <tr>\n",
              "      <th>nunique</th>\n",
              "      <td>1</td>\n",
              "      <td>1</td>\n",
              "      <td>1</td>\n",
              "    </tr>\n",
              "    <tr>\n",
              "      <th rowspan=\"3\" valign=\"top\">9.131725</th>\n",
              "      <th>count</th>\n",
              "      <td>1</td>\n",
              "      <td>1</td>\n",
              "      <td>1</td>\n",
              "    </tr>\n",
              "    <tr>\n",
              "      <th>size</th>\n",
              "      <td>1</td>\n",
              "      <td>1</td>\n",
              "      <td>1</td>\n",
              "    </tr>\n",
              "    <tr>\n",
              "      <th>nunique</th>\n",
              "      <td>1</td>\n",
              "      <td>1</td>\n",
              "      <td>1</td>\n",
              "    </tr>\n",
              "    <tr>\n",
              "      <th rowspan=\"3\" valign=\"top\">9.221256</th>\n",
              "      <th>count</th>\n",
              "      <td>1</td>\n",
              "      <td>1</td>\n",
              "      <td>1</td>\n",
              "    </tr>\n",
              "    <tr>\n",
              "      <th>size</th>\n",
              "      <td>1</td>\n",
              "      <td>1</td>\n",
              "      <td>1</td>\n",
              "    </tr>\n",
              "    <tr>\n",
              "      <th>nunique</th>\n",
              "      <td>1</td>\n",
              "      <td>1</td>\n",
              "      <td>1</td>\n",
              "    </tr>\n",
              "    <tr>\n",
              "      <th rowspan=\"3\" valign=\"top\">9.226497</th>\n",
              "      <th>count</th>\n",
              "      <td>1</td>\n",
              "      <td>1</td>\n",
              "      <td>1</td>\n",
              "    </tr>\n",
              "    <tr>\n",
              "      <th>size</th>\n",
              "      <td>1</td>\n",
              "      <td>1</td>\n",
              "      <td>1</td>\n",
              "    </tr>\n",
              "    <tr>\n",
              "      <th>nunique</th>\n",
              "      <td>1</td>\n",
              "      <td>1</td>\n",
              "      <td>1</td>\n",
              "    </tr>\n",
              "    <tr>\n",
              "      <th rowspan=\"3\" valign=\"top\">9.265432</th>\n",
              "      <th>count</th>\n",
              "      <td>1</td>\n",
              "      <td>1</td>\n",
              "      <td>1</td>\n",
              "    </tr>\n",
              "    <tr>\n",
              "      <th>size</th>\n",
              "      <td>1</td>\n",
              "      <td>1</td>\n",
              "      <td>1</td>\n",
              "    </tr>\n",
              "    <tr>\n",
              "      <th>nunique</th>\n",
              "      <td>1</td>\n",
              "      <td>1</td>\n",
              "      <td>1</td>\n",
              "    </tr>\n",
              "    <tr>\n",
              "      <th rowspan=\"3\" valign=\"top\">9.343541</th>\n",
              "      <th>count</th>\n",
              "      <td>1</td>\n",
              "      <td>1</td>\n",
              "      <td>1</td>\n",
              "    </tr>\n",
              "    <tr>\n",
              "      <th>size</th>\n",
              "      <td>1</td>\n",
              "      <td>1</td>\n",
              "      <td>1</td>\n",
              "    </tr>\n",
              "    <tr>\n",
              "      <th>nunique</th>\n",
              "      <td>1</td>\n",
              "      <td>1</td>\n",
              "      <td>1</td>\n",
              "    </tr>\n",
              "    <tr>\n",
              "      <th rowspan=\"3\" valign=\"top\">9.444524</th>\n",
              "      <th>count</th>\n",
              "      <td>1</td>\n",
              "      <td>1</td>\n",
              "      <td>1</td>\n",
              "    </tr>\n",
              "    <tr>\n",
              "      <th>size</th>\n",
              "      <td>1</td>\n",
              "      <td>1</td>\n",
              "      <td>1</td>\n",
              "    </tr>\n",
              "    <tr>\n",
              "      <th>nunique</th>\n",
              "      <td>1</td>\n",
              "      <td>1</td>\n",
              "      <td>1</td>\n",
              "    </tr>\n",
              "    <tr>\n",
              "      <th rowspan=\"3\" valign=\"top\">9.477013</th>\n",
              "      <th>count</th>\n",
              "      <td>1</td>\n",
              "      <td>1</td>\n",
              "      <td>1</td>\n",
              "    </tr>\n",
              "    <tr>\n",
              "      <th>size</th>\n",
              "      <td>1</td>\n",
              "      <td>1</td>\n",
              "      <td>1</td>\n",
              "    </tr>\n",
              "    <tr>\n",
              "      <th>nunique</th>\n",
              "      <td>1</td>\n",
              "      <td>1</td>\n",
              "      <td>1</td>\n",
              "    </tr>\n",
              "    <tr>\n",
              "      <th rowspan=\"3\" valign=\"top\">9.554327</th>\n",
              "      <th>count</th>\n",
              "      <td>1</td>\n",
              "      <td>1</td>\n",
              "      <td>1</td>\n",
              "    </tr>\n",
              "    <tr>\n",
              "      <th>size</th>\n",
              "      <td>1</td>\n",
              "      <td>1</td>\n",
              "      <td>1</td>\n",
              "    </tr>\n",
              "    <tr>\n",
              "      <th>nunique</th>\n",
              "      <td>1</td>\n",
              "      <td>1</td>\n",
              "      <td>1</td>\n",
              "    </tr>\n",
              "    <tr>\n",
              "      <th rowspan=\"3\" valign=\"top\">9.564997</th>\n",
              "      <th>count</th>\n",
              "      <td>1</td>\n",
              "      <td>1</td>\n",
              "      <td>1</td>\n",
              "    </tr>\n",
              "    <tr>\n",
              "      <th>size</th>\n",
              "      <td>1</td>\n",
              "      <td>1</td>\n",
              "      <td>1</td>\n",
              "    </tr>\n",
              "    <tr>\n",
              "      <th>nunique</th>\n",
              "      <td>1</td>\n",
              "      <td>1</td>\n",
              "      <td>1</td>\n",
              "    </tr>\n",
              "    <tr>\n",
              "      <th rowspan=\"3\" valign=\"top\">9.800348</th>\n",
              "      <th>count</th>\n",
              "      <td>1</td>\n",
              "      <td>1</td>\n",
              "      <td>1</td>\n",
              "    </tr>\n",
              "    <tr>\n",
              "      <th>size</th>\n",
              "      <td>1</td>\n",
              "      <td>1</td>\n",
              "      <td>1</td>\n",
              "    </tr>\n",
              "    <tr>\n",
              "      <th>nunique</th>\n",
              "      <td>1</td>\n",
              "      <td>1</td>\n",
              "      <td>1</td>\n",
              "    </tr>\n",
              "    <tr>\n",
              "      <th rowspan=\"3\" valign=\"top\">9.844946</th>\n",
              "      <th>count</th>\n",
              "      <td>1</td>\n",
              "      <td>1</td>\n",
              "      <td>1</td>\n",
              "    </tr>\n",
              "    <tr>\n",
              "      <th>size</th>\n",
              "      <td>1</td>\n",
              "      <td>1</td>\n",
              "      <td>1</td>\n",
              "    </tr>\n",
              "    <tr>\n",
              "      <th>nunique</th>\n",
              "      <td>1</td>\n",
              "      <td>1</td>\n",
              "      <td>1</td>\n",
              "    </tr>\n",
              "    <tr>\n",
              "      <th rowspan=\"3\" valign=\"top\">10.513823</th>\n",
              "      <th>count</th>\n",
              "      <td>1</td>\n",
              "      <td>1</td>\n",
              "      <td>1</td>\n",
              "    </tr>\n",
              "    <tr>\n",
              "      <th>size</th>\n",
              "      <td>1</td>\n",
              "      <td>1</td>\n",
              "      <td>1</td>\n",
              "    </tr>\n",
              "    <tr>\n",
              "      <th>nunique</th>\n",
              "      <td>1</td>\n",
              "      <td>1</td>\n",
              "      <td>1</td>\n",
              "    </tr>\n",
              "  </tbody>\n",
              "</table>\n",
              "</div>"
            ],
            "text/plain": [
              "                   Periodo  Hombres  Mujeres\n",
              "Total                                       \n",
              "8.992251  count          1        1        1\n",
              "          size           1        1        1\n",
              "          nunique        1        1        1\n",
              "9.025336  count          1        1        1\n",
              "          size           1        1        1\n",
              "          nunique        1        1        1\n",
              "9.034342  count          1        1        1\n",
              "          size           1        1        1\n",
              "          nunique        1        1        1\n",
              "9.100439  count          1        1        1\n",
              "          size           1        1        1\n",
              "          nunique        1        1        1\n",
              "9.131725  count          1        1        1\n",
              "          size           1        1        1\n",
              "          nunique        1        1        1\n",
              "9.221256  count          1        1        1\n",
              "          size           1        1        1\n",
              "          nunique        1        1        1\n",
              "9.226497  count          1        1        1\n",
              "          size           1        1        1\n",
              "          nunique        1        1        1\n",
              "9.265432  count          1        1        1\n",
              "          size           1        1        1\n",
              "          nunique        1        1        1\n",
              "9.343541  count          1        1        1\n",
              "          size           1        1        1\n",
              "          nunique        1        1        1\n",
              "9.444524  count          1        1        1\n",
              "          size           1        1        1\n",
              "          nunique        1        1        1\n",
              "9.477013  count          1        1        1\n",
              "          size           1        1        1\n",
              "          nunique        1        1        1\n",
              "9.554327  count          1        1        1\n",
              "          size           1        1        1\n",
              "          nunique        1        1        1\n",
              "9.564997  count          1        1        1\n",
              "          size           1        1        1\n",
              "          nunique        1        1        1\n",
              "9.800348  count          1        1        1\n",
              "          size           1        1        1\n",
              "          nunique        1        1        1\n",
              "9.844946  count          1        1        1\n",
              "          size           1        1        1\n",
              "          nunique        1        1        1\n",
              "10.513823 count          1        1        1\n",
              "          size           1        1        1\n",
              "          nunique        1        1        1"
            ]
          },
          "metadata": {
            "tags": []
          },
          "execution_count": 40
        }
      ]
    },
    {
      "cell_type": "code",
      "metadata": {
        "id": "06mWT39fEXSF",
        "colab_type": "code",
        "colab": {
          "base_uri": "https://localhost:8080/",
          "height": 607
        },
        "outputId": "0dd28bcf-4198-454c-eab3-52125be55a67"
      },
      "source": [
        "df.groupby('Total').agg(['count', 'size', 'nunique'])"
      ],
      "execution_count": 41,
      "outputs": [
        {
          "output_type": "execute_result",
          "data": {
            "text/html": [
              "<div>\n",
              "<style scoped>\n",
              "    .dataframe tbody tr th:only-of-type {\n",
              "        vertical-align: middle;\n",
              "    }\n",
              "\n",
              "    .dataframe tbody tr th {\n",
              "        vertical-align: top;\n",
              "    }\n",
              "\n",
              "    .dataframe thead tr th {\n",
              "        text-align: left;\n",
              "    }\n",
              "\n",
              "    .dataframe thead tr:last-of-type th {\n",
              "        text-align: right;\n",
              "    }\n",
              "</style>\n",
              "<table border=\"1\" class=\"dataframe\">\n",
              "  <thead>\n",
              "    <tr>\n",
              "      <th></th>\n",
              "      <th colspan=\"3\" halign=\"left\">Periodo</th>\n",
              "      <th colspan=\"3\" halign=\"left\">Hombres</th>\n",
              "      <th colspan=\"3\" halign=\"left\">Mujeres</th>\n",
              "    </tr>\n",
              "    <tr>\n",
              "      <th></th>\n",
              "      <th>count</th>\n",
              "      <th>size</th>\n",
              "      <th>nunique</th>\n",
              "      <th>count</th>\n",
              "      <th>size</th>\n",
              "      <th>nunique</th>\n",
              "      <th>count</th>\n",
              "      <th>size</th>\n",
              "      <th>nunique</th>\n",
              "    </tr>\n",
              "    <tr>\n",
              "      <th>Total</th>\n",
              "      <th></th>\n",
              "      <th></th>\n",
              "      <th></th>\n",
              "      <th></th>\n",
              "      <th></th>\n",
              "      <th></th>\n",
              "      <th></th>\n",
              "      <th></th>\n",
              "      <th></th>\n",
              "    </tr>\n",
              "  </thead>\n",
              "  <tbody>\n",
              "    <tr>\n",
              "      <th>8.992251</th>\n",
              "      <td>1</td>\n",
              "      <td>1</td>\n",
              "      <td>1</td>\n",
              "      <td>1</td>\n",
              "      <td>1</td>\n",
              "      <td>1</td>\n",
              "      <td>1</td>\n",
              "      <td>1</td>\n",
              "      <td>1</td>\n",
              "    </tr>\n",
              "    <tr>\n",
              "      <th>9.025336</th>\n",
              "      <td>1</td>\n",
              "      <td>1</td>\n",
              "      <td>1</td>\n",
              "      <td>1</td>\n",
              "      <td>1</td>\n",
              "      <td>1</td>\n",
              "      <td>1</td>\n",
              "      <td>1</td>\n",
              "      <td>1</td>\n",
              "    </tr>\n",
              "    <tr>\n",
              "      <th>9.034342</th>\n",
              "      <td>1</td>\n",
              "      <td>1</td>\n",
              "      <td>1</td>\n",
              "      <td>1</td>\n",
              "      <td>1</td>\n",
              "      <td>1</td>\n",
              "      <td>1</td>\n",
              "      <td>1</td>\n",
              "      <td>1</td>\n",
              "    </tr>\n",
              "    <tr>\n",
              "      <th>9.100439</th>\n",
              "      <td>1</td>\n",
              "      <td>1</td>\n",
              "      <td>1</td>\n",
              "      <td>1</td>\n",
              "      <td>1</td>\n",
              "      <td>1</td>\n",
              "      <td>1</td>\n",
              "      <td>1</td>\n",
              "      <td>1</td>\n",
              "    </tr>\n",
              "    <tr>\n",
              "      <th>9.131725</th>\n",
              "      <td>1</td>\n",
              "      <td>1</td>\n",
              "      <td>1</td>\n",
              "      <td>1</td>\n",
              "      <td>1</td>\n",
              "      <td>1</td>\n",
              "      <td>1</td>\n",
              "      <td>1</td>\n",
              "      <td>1</td>\n",
              "    </tr>\n",
              "    <tr>\n",
              "      <th>9.221256</th>\n",
              "      <td>1</td>\n",
              "      <td>1</td>\n",
              "      <td>1</td>\n",
              "      <td>1</td>\n",
              "      <td>1</td>\n",
              "      <td>1</td>\n",
              "      <td>1</td>\n",
              "      <td>1</td>\n",
              "      <td>1</td>\n",
              "    </tr>\n",
              "    <tr>\n",
              "      <th>9.226497</th>\n",
              "      <td>1</td>\n",
              "      <td>1</td>\n",
              "      <td>1</td>\n",
              "      <td>1</td>\n",
              "      <td>1</td>\n",
              "      <td>1</td>\n",
              "      <td>1</td>\n",
              "      <td>1</td>\n",
              "      <td>1</td>\n",
              "    </tr>\n",
              "    <tr>\n",
              "      <th>9.265432</th>\n",
              "      <td>1</td>\n",
              "      <td>1</td>\n",
              "      <td>1</td>\n",
              "      <td>1</td>\n",
              "      <td>1</td>\n",
              "      <td>1</td>\n",
              "      <td>1</td>\n",
              "      <td>1</td>\n",
              "      <td>1</td>\n",
              "    </tr>\n",
              "    <tr>\n",
              "      <th>9.343541</th>\n",
              "      <td>1</td>\n",
              "      <td>1</td>\n",
              "      <td>1</td>\n",
              "      <td>1</td>\n",
              "      <td>1</td>\n",
              "      <td>1</td>\n",
              "      <td>1</td>\n",
              "      <td>1</td>\n",
              "      <td>1</td>\n",
              "    </tr>\n",
              "    <tr>\n",
              "      <th>9.444524</th>\n",
              "      <td>1</td>\n",
              "      <td>1</td>\n",
              "      <td>1</td>\n",
              "      <td>1</td>\n",
              "      <td>1</td>\n",
              "      <td>1</td>\n",
              "      <td>1</td>\n",
              "      <td>1</td>\n",
              "      <td>1</td>\n",
              "    </tr>\n",
              "    <tr>\n",
              "      <th>9.477013</th>\n",
              "      <td>1</td>\n",
              "      <td>1</td>\n",
              "      <td>1</td>\n",
              "      <td>1</td>\n",
              "      <td>1</td>\n",
              "      <td>1</td>\n",
              "      <td>1</td>\n",
              "      <td>1</td>\n",
              "      <td>1</td>\n",
              "    </tr>\n",
              "    <tr>\n",
              "      <th>9.554327</th>\n",
              "      <td>1</td>\n",
              "      <td>1</td>\n",
              "      <td>1</td>\n",
              "      <td>1</td>\n",
              "      <td>1</td>\n",
              "      <td>1</td>\n",
              "      <td>1</td>\n",
              "      <td>1</td>\n",
              "      <td>1</td>\n",
              "    </tr>\n",
              "    <tr>\n",
              "      <th>9.564997</th>\n",
              "      <td>1</td>\n",
              "      <td>1</td>\n",
              "      <td>1</td>\n",
              "      <td>1</td>\n",
              "      <td>1</td>\n",
              "      <td>1</td>\n",
              "      <td>1</td>\n",
              "      <td>1</td>\n",
              "      <td>1</td>\n",
              "    </tr>\n",
              "    <tr>\n",
              "      <th>9.800348</th>\n",
              "      <td>1</td>\n",
              "      <td>1</td>\n",
              "      <td>1</td>\n",
              "      <td>1</td>\n",
              "      <td>1</td>\n",
              "      <td>1</td>\n",
              "      <td>1</td>\n",
              "      <td>1</td>\n",
              "      <td>1</td>\n",
              "    </tr>\n",
              "    <tr>\n",
              "      <th>9.844946</th>\n",
              "      <td>1</td>\n",
              "      <td>1</td>\n",
              "      <td>1</td>\n",
              "      <td>1</td>\n",
              "      <td>1</td>\n",
              "      <td>1</td>\n",
              "      <td>1</td>\n",
              "      <td>1</td>\n",
              "      <td>1</td>\n",
              "    </tr>\n",
              "    <tr>\n",
              "      <th>10.513823</th>\n",
              "      <td>1</td>\n",
              "      <td>1</td>\n",
              "      <td>1</td>\n",
              "      <td>1</td>\n",
              "      <td>1</td>\n",
              "      <td>1</td>\n",
              "      <td>1</td>\n",
              "      <td>1</td>\n",
              "      <td>1</td>\n",
              "    </tr>\n",
              "  </tbody>\n",
              "</table>\n",
              "</div>"
            ],
            "text/plain": [
              "          Periodo              Hombres              Mujeres             \n",
              "            count size nunique   count size nunique   count size nunique\n",
              "Total                                                                   \n",
              "8.992251        1    1       1       1    1       1       1    1       1\n",
              "9.025336        1    1       1       1    1       1       1    1       1\n",
              "9.034342        1    1       1       1    1       1       1    1       1\n",
              "9.100439        1    1       1       1    1       1       1    1       1\n",
              "9.131725        1    1       1       1    1       1       1    1       1\n",
              "9.221256        1    1       1       1    1       1       1    1       1\n",
              "9.226497        1    1       1       1    1       1       1    1       1\n",
              "9.265432        1    1       1       1    1       1       1    1       1\n",
              "9.343541        1    1       1       1    1       1       1    1       1\n",
              "9.444524        1    1       1       1    1       1       1    1       1\n",
              "9.477013        1    1       1       1    1       1       1    1       1\n",
              "9.554327        1    1       1       1    1       1       1    1       1\n",
              "9.564997        1    1       1       1    1       1       1    1       1\n",
              "9.800348        1    1       1       1    1       1       1    1       1\n",
              "9.844946        1    1       1       1    1       1       1    1       1\n",
              "10.513823       1    1       1       1    1       1       1    1       1"
            ]
          },
          "metadata": {
            "tags": []
          },
          "execution_count": 41
        }
      ]
    },
    {
      "cell_type": "code",
      "metadata": {
        "id": "s0MjDz2wEf-E",
        "colab_type": "code",
        "colab": {
          "base_uri": "https://localhost:8080/",
          "height": 80
        },
        "outputId": "1dde6d49-0dc5-42b7-dfc6-c54e753c101b"
      },
      "source": [
        "df_sample = df.sample(frac=0.05, random_state=1)\n",
        "df_sample.head()"
      ],
      "execution_count": 42,
      "outputs": [
        {
          "output_type": "execute_result",
          "data": {
            "text/html": [
              "<div>\n",
              "<style scoped>\n",
              "    .dataframe tbody tr th:only-of-type {\n",
              "        vertical-align: middle;\n",
              "    }\n",
              "\n",
              "    .dataframe tbody tr th {\n",
              "        vertical-align: top;\n",
              "    }\n",
              "\n",
              "    .dataframe thead th {\n",
              "        text-align: right;\n",
              "    }\n",
              "</style>\n",
              "<table border=\"1\" class=\"dataframe\">\n",
              "  <thead>\n",
              "    <tr style=\"text-align: right;\">\n",
              "      <th></th>\n",
              "      <th>Periodo</th>\n",
              "      <th>Total</th>\n",
              "      <th>Hombres</th>\n",
              "      <th>Mujeres</th>\n",
              "    </tr>\n",
              "  </thead>\n",
              "  <tbody>\n",
              "    <tr>\n",
              "      <th>15</th>\n",
              "      <td>2019</td>\n",
              "      <td>NaN</td>\n",
              "      <td>NaN</td>\n",
              "      <td>NaN</td>\n",
              "    </tr>\n",
              "  </tbody>\n",
              "</table>\n",
              "</div>"
            ],
            "text/plain": [
              "   Periodo  Total  Hombres  Mujeres\n",
              "15    2019    NaN      NaN      NaN"
            ]
          },
          "metadata": {
            "tags": []
          },
          "execution_count": 42
        }
      ]
    },
    {
      "cell_type": "code",
      "metadata": {
        "id": "eYBAha-IElz3",
        "colab_type": "code",
        "colab": {
          "base_uri": "https://localhost:8080/",
          "height": 34
        },
        "outputId": "c4d46ca1-0acc-416c-e02a-5e5a470f5c21"
      },
      "source": [
        "df.shape"
      ],
      "execution_count": 43,
      "outputs": [
        {
          "output_type": "execute_result",
          "data": {
            "text/plain": [
              "(21, 4)"
            ]
          },
          "metadata": {
            "tags": []
          },
          "execution_count": 43
        }
      ]
    },
    {
      "cell_type": "code",
      "metadata": {
        "id": "KPRhYemoEpmS",
        "colab_type": "code",
        "colab": {
          "base_uri": "https://localhost:8080/",
          "height": 34
        },
        "outputId": "ee8dd7e0-a81f-41d4-ddf3-292a4764c35b"
      },
      "source": [
        "df_sample.shape"
      ],
      "execution_count": 44,
      "outputs": [
        {
          "output_type": "execute_result",
          "data": {
            "text/plain": [
              "(1, 4)"
            ]
          },
          "metadata": {
            "tags": []
          },
          "execution_count": 44
        }
      ]
    },
    {
      "cell_type": "markdown",
      "metadata": {
        "id": "GNBlP87VE3OQ",
        "colab_type": "text"
      },
      "source": [
        "Data Transform"
      ]
    },
    {
      "cell_type": "code",
      "metadata": {
        "id": "wGq5YUoPE8zw",
        "colab_type": "code",
        "colab": {
          "base_uri": "https://localhost:8080/",
          "height": 204
        },
        "outputId": "ebfca347-91bd-41f2-e225-9500c04f57f2"
      },
      "source": [
        "df_dropped = df.dropna(subset=['Total'])\n",
        "df_dropped.head()"
      ],
      "execution_count": 46,
      "outputs": [
        {
          "output_type": "execute_result",
          "data": {
            "text/html": [
              "<div>\n",
              "<style scoped>\n",
              "    .dataframe tbody tr th:only-of-type {\n",
              "        vertical-align: middle;\n",
              "    }\n",
              "\n",
              "    .dataframe tbody tr th {\n",
              "        vertical-align: top;\n",
              "    }\n",
              "\n",
              "    .dataframe thead th {\n",
              "        text-align: right;\n",
              "    }\n",
              "</style>\n",
              "<table border=\"1\" class=\"dataframe\">\n",
              "  <thead>\n",
              "    <tr style=\"text-align: right;\">\n",
              "      <th></th>\n",
              "      <th>Periodo</th>\n",
              "      <th>Total</th>\n",
              "      <th>Hombres</th>\n",
              "      <th>Mujeres</th>\n",
              "    </tr>\n",
              "  </thead>\n",
              "  <tbody>\n",
              "    <tr>\n",
              "      <th>1</th>\n",
              "      <td>I</td>\n",
              "      <td>10.513823</td>\n",
              "      <td>7.906017</td>\n",
              "      <td>14.668463</td>\n",
              "    </tr>\n",
              "    <tr>\n",
              "      <th>2</th>\n",
              "      <td>II</td>\n",
              "      <td>9.800348</td>\n",
              "      <td>7.312559</td>\n",
              "      <td>13.934920</td>\n",
              "    </tr>\n",
              "    <tr>\n",
              "      <th>3</th>\n",
              "      <td>III</td>\n",
              "      <td>9.844946</td>\n",
              "      <td>7.176555</td>\n",
              "      <td>14.125082</td>\n",
              "    </tr>\n",
              "    <tr>\n",
              "      <th>4</th>\n",
              "      <td>IV</td>\n",
              "      <td>9.477013</td>\n",
              "      <td>6.972421</td>\n",
              "      <td>13.473800</td>\n",
              "    </tr>\n",
              "    <tr>\n",
              "      <th>6</th>\n",
              "      <td>I</td>\n",
              "      <td>9.221256</td>\n",
              "      <td>6.660866</td>\n",
              "      <td>13.368390</td>\n",
              "    </tr>\n",
              "  </tbody>\n",
              "</table>\n",
              "</div>"
            ],
            "text/plain": [
              "  Periodo      Total   Hombres    Mujeres\n",
              "1       I  10.513823  7.906017  14.668463\n",
              "2      II   9.800348  7.312559  13.934920\n",
              "3     III   9.844946  7.176555  14.125082\n",
              "4      IV   9.477013  6.972421  13.473800\n",
              "6       I   9.221256  6.660866  13.368390"
            ]
          },
          "metadata": {
            "tags": []
          },
          "execution_count": 46
        }
      ]
    },
    {
      "cell_type": "code",
      "metadata": {
        "id": "jax9f8K4FP5-",
        "colab_type": "code",
        "colab": {
          "base_uri": "https://localhost:8080/",
          "height": 34
        },
        "outputId": "0291c36b-4b1e-4140-b241-0e13d072d84e"
      },
      "source": [
        "df_dropped.shape"
      ],
      "execution_count": 47,
      "outputs": [
        {
          "output_type": "execute_result",
          "data": {
            "text/plain": [
              "(16, 4)"
            ]
          },
          "metadata": {
            "tags": []
          },
          "execution_count": 47
        }
      ]
    },
    {
      "cell_type": "code",
      "metadata": {
        "id": "XkL31jftFXeF",
        "colab_type": "code",
        "colab": {
          "base_uri": "https://localhost:8080/",
          "height": 204
        },
        "outputId": "2c13f38b-c710-40ff-96a3-9f7dab33a221"
      },
      "source": [
        "df_copy = df.copy()\n",
        "df_copy.head()"
      ],
      "execution_count": 48,
      "outputs": [
        {
          "output_type": "execute_result",
          "data": {
            "text/html": [
              "<div>\n",
              "<style scoped>\n",
              "    .dataframe tbody tr th:only-of-type {\n",
              "        vertical-align: middle;\n",
              "    }\n",
              "\n",
              "    .dataframe tbody tr th {\n",
              "        vertical-align: top;\n",
              "    }\n",
              "\n",
              "    .dataframe thead th {\n",
              "        text-align: right;\n",
              "    }\n",
              "</style>\n",
              "<table border=\"1\" class=\"dataframe\">\n",
              "  <thead>\n",
              "    <tr style=\"text-align: right;\">\n",
              "      <th></th>\n",
              "      <th>Periodo</th>\n",
              "      <th>Total</th>\n",
              "      <th>Hombres</th>\n",
              "      <th>Mujeres</th>\n",
              "    </tr>\n",
              "  </thead>\n",
              "  <tbody>\n",
              "    <tr>\n",
              "      <th>0</th>\n",
              "      <td>2016</td>\n",
              "      <td>NaN</td>\n",
              "      <td>NaN</td>\n",
              "      <td>NaN</td>\n",
              "    </tr>\n",
              "    <tr>\n",
              "      <th>1</th>\n",
              "      <td>I</td>\n",
              "      <td>10.513823</td>\n",
              "      <td>7.906017</td>\n",
              "      <td>14.668463</td>\n",
              "    </tr>\n",
              "    <tr>\n",
              "      <th>2</th>\n",
              "      <td>II</td>\n",
              "      <td>9.800348</td>\n",
              "      <td>7.312559</td>\n",
              "      <td>13.934920</td>\n",
              "    </tr>\n",
              "    <tr>\n",
              "      <th>3</th>\n",
              "      <td>III</td>\n",
              "      <td>9.844946</td>\n",
              "      <td>7.176555</td>\n",
              "      <td>14.125082</td>\n",
              "    </tr>\n",
              "    <tr>\n",
              "      <th>4</th>\n",
              "      <td>IV</td>\n",
              "      <td>9.477013</td>\n",
              "      <td>6.972421</td>\n",
              "      <td>13.473800</td>\n",
              "    </tr>\n",
              "  </tbody>\n",
              "</table>\n",
              "</div>"
            ],
            "text/plain": [
              "  Periodo      Total   Hombres    Mujeres\n",
              "0    2016        NaN       NaN        NaN\n",
              "1       I  10.513823  7.906017  14.668463\n",
              "2      II   9.800348  7.312559  13.934920\n",
              "3     III   9.844946  7.176555  14.125082\n",
              "4      IV   9.477013  6.972421  13.473800"
            ]
          },
          "metadata": {
            "tags": []
          },
          "execution_count": 48
        }
      ]
    },
    {
      "cell_type": "code",
      "metadata": {
        "id": "y1qPRaE4Fk09",
        "colab_type": "code",
        "colab": {
          "base_uri": "https://localhost:8080/",
          "height": 34
        },
        "outputId": "cbf2dd52-0bee-4134-86e3-2deedd717225"
      },
      "source": [
        "df_copy.shape"
      ],
      "execution_count": 49,
      "outputs": [
        {
          "output_type": "execute_result",
          "data": {
            "text/plain": [
              "(21, 4)"
            ]
          },
          "metadata": {
            "tags": []
          },
          "execution_count": 49
        }
      ]
    },
    {
      "cell_type": "code",
      "metadata": {
        "id": "4EcFwZxUFt7u",
        "colab_type": "code",
        "colab": {
          "base_uri": "https://localhost:8080/",
          "height": 34
        },
        "outputId": "50ceb100-788b-46ff-b9ae-4dd280b341d8"
      },
      "source": [
        "df_dropped['Hombres'].dtype"
      ],
      "execution_count": 51,
      "outputs": [
        {
          "output_type": "execute_result",
          "data": {
            "text/plain": [
              "dtype('float64')"
            ]
          },
          "metadata": {
            "tags": []
          },
          "execution_count": 51
        }
      ]
    },
    {
      "cell_type": "code",
      "metadata": {
        "id": "69Rk_7OYGe9J",
        "colab_type": "code",
        "colab": {
          "base_uri": "https://localhost:8080/",
          "height": 34
        },
        "outputId": "8aefe063-d388-48ac-df22-a381a920f573"
      },
      "source": [
        "df_dropped['Hombres'].mean()"
      ],
      "execution_count": 52,
      "outputs": [
        {
          "output_type": "execute_result",
          "data": {
            "text/plain": [
              "6.873806767029439"
            ]
          },
          "metadata": {
            "tags": []
          },
          "execution_count": 52
        }
      ]
    },
    {
      "cell_type": "code",
      "metadata": {
        "id": "C7vn6M2oGpqT",
        "colab_type": "code",
        "colab": {}
      },
      "source": [
        "df_copy['Hombres'].fillna(value=np.round(df['Hombres'].mean(),decimals=0), inplace=True)"
      ],
      "execution_count": 0,
      "outputs": []
    },
    {
      "cell_type": "code",
      "metadata": {
        "id": "qZ9gD1pqHITR",
        "colab_type": "code",
        "colab": {
          "base_uri": "https://localhost:8080/",
          "height": 142
        },
        "outputId": "1f322f68-fad3-4657-f8ff-4ab33358b2c6"
      },
      "source": [
        "df_copy.agg(['count', 'size', 'nunique'])"
      ],
      "execution_count": 54,
      "outputs": [
        {
          "output_type": "execute_result",
          "data": {
            "text/html": [
              "<div>\n",
              "<style scoped>\n",
              "    .dataframe tbody tr th:only-of-type {\n",
              "        vertical-align: middle;\n",
              "    }\n",
              "\n",
              "    .dataframe tbody tr th {\n",
              "        vertical-align: top;\n",
              "    }\n",
              "\n",
              "    .dataframe thead th {\n",
              "        text-align: right;\n",
              "    }\n",
              "</style>\n",
              "<table border=\"1\" class=\"dataframe\">\n",
              "  <thead>\n",
              "    <tr style=\"text-align: right;\">\n",
              "      <th></th>\n",
              "      <th>Periodo</th>\n",
              "      <th>Total</th>\n",
              "      <th>Hombres</th>\n",
              "      <th>Mujeres</th>\n",
              "    </tr>\n",
              "  </thead>\n",
              "  <tbody>\n",
              "    <tr>\n",
              "      <th>count</th>\n",
              "      <td>21</td>\n",
              "      <td>16</td>\n",
              "      <td>21</td>\n",
              "      <td>16</td>\n",
              "    </tr>\n",
              "    <tr>\n",
              "      <th>size</th>\n",
              "      <td>21</td>\n",
              "      <td>21</td>\n",
              "      <td>21</td>\n",
              "      <td>21</td>\n",
              "    </tr>\n",
              "    <tr>\n",
              "      <th>nunique</th>\n",
              "      <td>9</td>\n",
              "      <td>16</td>\n",
              "      <td>17</td>\n",
              "      <td>16</td>\n",
              "    </tr>\n",
              "  </tbody>\n",
              "</table>\n",
              "</div>"
            ],
            "text/plain": [
              "         Periodo  Total  Hombres  Mujeres\n",
              "count         21     16       21       16\n",
              "size          21     21       21       21\n",
              "nunique        9     16       17       16"
            ]
          },
          "metadata": {
            "tags": []
          },
          "execution_count": 54
        }
      ]
    },
    {
      "cell_type": "markdown",
      "metadata": {
        "id": "eecF1aIBHPi5",
        "colab_type": "text"
      },
      "source": [
        "Handling Categorical Data"
      ]
    },
    {
      "cell_type": "code",
      "metadata": {
        "id": "huEg_t3hHWym",
        "colab_type": "code",
        "colab": {
          "base_uri": "https://localhost:8080/",
          "height": 190
        },
        "outputId": "2e3a89f7-74c2-4c75-918d-96f2eef71507"
      },
      "source": [
        "list(df['Periodo'].unique())"
      ],
      "execution_count": 55,
      "outputs": [
        {
          "output_type": "execute_result",
          "data": {
            "text/plain": [
              "['2016',\n",
              " 'I',\n",
              " 'II',\n",
              " 'III',\n",
              " 'IV',\n",
              " '2017',\n",
              " '2018',\n",
              " '2019',\n",
              " 'Nota:Debido al mÃ©todo de estimaciÃ³n, las series pueden ser modificadas al incorporarse nueva informaciÃ³n.    Para el cÃ¡lculo de los indicadores de la Encuesta Nacional de OcupaciÃ³n y Empleo (ENOE), se utilizan los datos de las Proyecciones de la PoblaciÃ³n de MÃ©xico y de las Entidades Federativas, 2016-2050 de CONAPO.Fuente:INEGI. Series calculadas por mÃ©todos economÃ©tricos a partir de la Encuesta Nacional de OcupaciÃ³n y Empleo.Fecha de actualizaciÃ³n: Jueves, 13 de Febrero de 2020']"
            ]
          },
          "metadata": {
            "tags": []
          },
          "execution_count": 55
        }
      ]
    },
    {
      "cell_type": "code",
      "metadata": {
        "id": "dAqR5EGfHvJW",
        "colab_type": "code",
        "colab": {}
      },
      "source": [
        "df['Periodo'].replace({1:\"Periodo I\",\n",
        "                       2:\"Periodo II\",\n",
        "                       3:\"Periodo III\",\n",
        "                       4:\"Periodo IV\",\n",
        "                       5:\"Año2016\",\n",
        "                       6:\"Año2017\",\n",
        "                       7:\"Año2018\",\n",
        "                       8:\"Año2019\"}, inplace=True)"
      ],
      "execution_count": 0,
      "outputs": []
    },
    {
      "cell_type": "code",
      "metadata": {
        "id": "7fe3IEGMKgcm",
        "colab_type": "code",
        "colab": {
          "base_uri": "https://localhost:8080/",
          "height": 190
        },
        "outputId": "83141553-c4c2-43cf-d8cc-786cb456b6f1"
      },
      "source": [
        "list(df['Periodo'].unique())"
      ],
      "execution_count": 67,
      "outputs": [
        {
          "output_type": "execute_result",
          "data": {
            "text/plain": [
              "['2016',\n",
              " 'I',\n",
              " 'II',\n",
              " 'III',\n",
              " 'IV',\n",
              " '2017',\n",
              " '2018',\n",
              " '2019',\n",
              " 'Nota:Debido al mÃ©todo de estimaciÃ³n, las series pueden ser modificadas al incorporarse nueva informaciÃ³n.    Para el cÃ¡lculo de los indicadores de la Encuesta Nacional de OcupaciÃ³n y Empleo (ENOE), se utilizan los datos de las Proyecciones de la PoblaciÃ³n de MÃ©xico y de las Entidades Federativas, 2016-2050 de CONAPO.Fuente:INEGI. Series calculadas por mÃ©todos economÃ©tricos a partir de la Encuesta Nacional de OcupaciÃ³n y Empleo.Fecha de actualizaciÃ³n: Jueves, 13 de Febrero de 2020']"
            ]
          },
          "metadata": {
            "tags": []
          },
          "execution_count": 67
        }
      ]
    },
    {
      "cell_type": "code",
      "metadata": {
        "id": "b_ZcG-A_Kxvk",
        "colab_type": "code",
        "colab": {
          "base_uri": "https://localhost:8080/",
          "height": 34
        },
        "outputId": "da5e0fa9-078f-48e3-bd58-813d106cd23c"
      },
      "source": [
        "keys = list(df['Periodo'].unique())\n",
        "vals = range(1,8)\n",
        "act = dict(zip(keys, vals))\n",
        "act"
      ],
      "execution_count": 68,
      "outputs": [
        {
          "output_type": "execute_result",
          "data": {
            "text/plain": [
              "{'2016': 1, '2017': 6, '2018': 7, 'I': 2, 'II': 3, 'III': 4, 'IV': 5}"
            ]
          },
          "metadata": {
            "tags": []
          },
          "execution_count": 68
        }
      ]
    },
    {
      "cell_type": "code",
      "metadata": {
        "id": "fthoGAsQLUV_",
        "colab_type": "code",
        "colab": {
          "base_uri": "https://localhost:8080/",
          "height": 204
        },
        "outputId": "75a2395a-fafc-413b-882d-78835c7b59a2"
      },
      "source": [
        "df_copy['Periodo_cat'] = df['Periodo'].map(act)\n",
        "df_copy.head()"
      ],
      "execution_count": 69,
      "outputs": [
        {
          "output_type": "execute_result",
          "data": {
            "text/html": [
              "<div>\n",
              "<style scoped>\n",
              "    .dataframe tbody tr th:only-of-type {\n",
              "        vertical-align: middle;\n",
              "    }\n",
              "\n",
              "    .dataframe tbody tr th {\n",
              "        vertical-align: top;\n",
              "    }\n",
              "\n",
              "    .dataframe thead th {\n",
              "        text-align: right;\n",
              "    }\n",
              "</style>\n",
              "<table border=\"1\" class=\"dataframe\">\n",
              "  <thead>\n",
              "    <tr style=\"text-align: right;\">\n",
              "      <th></th>\n",
              "      <th>Periodo</th>\n",
              "      <th>Total</th>\n",
              "      <th>Hombres</th>\n",
              "      <th>Mujeres</th>\n",
              "      <th>Periodo_cat</th>\n",
              "    </tr>\n",
              "  </thead>\n",
              "  <tbody>\n",
              "    <tr>\n",
              "      <th>0</th>\n",
              "      <td>2016</td>\n",
              "      <td>NaN</td>\n",
              "      <td>7.000000</td>\n",
              "      <td>NaN</td>\n",
              "      <td>1.0</td>\n",
              "    </tr>\n",
              "    <tr>\n",
              "      <th>1</th>\n",
              "      <td>I</td>\n",
              "      <td>10.513823</td>\n",
              "      <td>7.906017</td>\n",
              "      <td>14.668463</td>\n",
              "      <td>2.0</td>\n",
              "    </tr>\n",
              "    <tr>\n",
              "      <th>2</th>\n",
              "      <td>II</td>\n",
              "      <td>9.800348</td>\n",
              "      <td>7.312559</td>\n",
              "      <td>13.934920</td>\n",
              "      <td>3.0</td>\n",
              "    </tr>\n",
              "    <tr>\n",
              "      <th>3</th>\n",
              "      <td>III</td>\n",
              "      <td>9.844946</td>\n",
              "      <td>7.176555</td>\n",
              "      <td>14.125082</td>\n",
              "      <td>4.0</td>\n",
              "    </tr>\n",
              "    <tr>\n",
              "      <th>4</th>\n",
              "      <td>IV</td>\n",
              "      <td>9.477013</td>\n",
              "      <td>6.972421</td>\n",
              "      <td>13.473800</td>\n",
              "      <td>5.0</td>\n",
              "    </tr>\n",
              "  </tbody>\n",
              "</table>\n",
              "</div>"
            ],
            "text/plain": [
              "  Periodo      Total   Hombres    Mujeres  Periodo_cat\n",
              "0    2016        NaN  7.000000        NaN          1.0\n",
              "1       I  10.513823  7.906017  14.668463          2.0\n",
              "2      II   9.800348  7.312559  13.934920          3.0\n",
              "3     III   9.844946  7.176555  14.125082          4.0\n",
              "4      IV   9.477013  6.972421  13.473800          5.0"
            ]
          },
          "metadata": {
            "tags": []
          },
          "execution_count": 69
        }
      ]
    },
    {
      "cell_type": "code",
      "metadata": {
        "id": "hL5A-B7uMJse",
        "colab_type": "code",
        "colab": {
          "base_uri": "https://localhost:8080/",
          "height": 34
        },
        "outputId": "7d6ade6e-b505-4574-c3c1-a26d9118fd38"
      },
      "source": [
        "list(df_copy['Periodo_cat'].unique())"
      ],
      "execution_count": 70,
      "outputs": [
        {
          "output_type": "execute_result",
          "data": {
            "text/plain": [
              "[1.0, 2.0, 3.0, 4.0, 5.0, 6.0, 7.0, nan]"
            ]
          },
          "metadata": {
            "tags": []
          },
          "execution_count": 70
        }
      ]
    },
    {
      "cell_type": "markdown",
      "metadata": {
        "id": "OaqczDcRNmH5",
        "colab_type": "text"
      },
      "source": [
        "Data Summarization"
      ]
    },
    {
      "cell_type": "code",
      "metadata": {
        "id": "rav1O5OANvrz",
        "colab_type": "code",
        "colab": {
          "base_uri": "https://localhost:8080/",
          "height": 34
        },
        "outputId": "569a1929-c6ec-43e8-ec0b-e9693f8c598d"
      },
      "source": [
        "df_copy['Mujeres'].mean()"
      ],
      "execution_count": 71,
      "outputs": [
        {
          "output_type": "execute_result",
          "data": {
            "text/plain": [
              "13.469411733249313"
            ]
          },
          "metadata": {
            "tags": []
          },
          "execution_count": 71
        }
      ]
    },
    {
      "cell_type": "code",
      "metadata": {
        "id": "Crkhnbx_N9DS",
        "colab_type": "code",
        "colab": {
          "base_uri": "https://localhost:8080/",
          "height": 34
        },
        "outputId": "f7175753-af26-44f6-8cf3-a1f091d53e1d"
      },
      "source": [
        "df_copy['Mujeres'][df_copy['Periodo'] == 3]"
      ],
      "execution_count": 73,
      "outputs": [
        {
          "output_type": "execute_result",
          "data": {
            "text/plain": [
              "Series([], Name: Mujeres, dtype: float64)"
            ]
          },
          "metadata": {
            "tags": []
          },
          "execution_count": 73
        }
      ]
    },
    {
      "cell_type": "code",
      "metadata": {
        "id": "8j4sMWjdPwWU",
        "colab_type": "code",
        "colab": {
          "base_uri": "https://localhost:8080/",
          "height": 34
        },
        "outputId": "e7854f04-c901-40b6-acac-d5b4d11ca5a2"
      },
      "source": [
        "df_copy['Mujeres'][df_copy['Periodo_cat'] == 3].mean()"
      ],
      "execution_count": 75,
      "outputs": [
        {
          "output_type": "execute_result",
          "data": {
            "text/plain": [
              "13.55147009441125"
            ]
          },
          "metadata": {
            "tags": []
          },
          "execution_count": 75
        }
      ]
    },
    {
      "cell_type": "code",
      "metadata": {
        "id": "GkW5AROcRNim",
        "colab_type": "code",
        "colab": {
          "base_uri": "https://localhost:8080/",
          "height": 576
        },
        "outputId": "e605ee4a-cfa3-4571-db5b-7772f259664c"
      },
      "source": [
        "df_copy.groupby([\"Periodo_cat\", \"Total\", \"Hombres\", \"Mujeres\"]).count()"
      ],
      "execution_count": 82,
      "outputs": [
        {
          "output_type": "execute_result",
          "data": {
            "text/html": [
              "<div>\n",
              "<style scoped>\n",
              "    .dataframe tbody tr th:only-of-type {\n",
              "        vertical-align: middle;\n",
              "    }\n",
              "\n",
              "    .dataframe tbody tr th {\n",
              "        vertical-align: top;\n",
              "    }\n",
              "\n",
              "    .dataframe thead th {\n",
              "        text-align: right;\n",
              "    }\n",
              "</style>\n",
              "<table border=\"1\" class=\"dataframe\">\n",
              "  <thead>\n",
              "    <tr style=\"text-align: right;\">\n",
              "      <th></th>\n",
              "      <th></th>\n",
              "      <th></th>\n",
              "      <th></th>\n",
              "      <th>Periodo</th>\n",
              "    </tr>\n",
              "    <tr>\n",
              "      <th>Periodo_cat</th>\n",
              "      <th>Total</th>\n",
              "      <th>Hombres</th>\n",
              "      <th>Mujeres</th>\n",
              "      <th></th>\n",
              "    </tr>\n",
              "  </thead>\n",
              "  <tbody>\n",
              "    <tr>\n",
              "      <th rowspan=\"4\" valign=\"top\">2.0</th>\n",
              "      <th>9.034342</th>\n",
              "      <th>6.558011</th>\n",
              "      <th>13.055288</th>\n",
              "      <td>1</td>\n",
              "    </tr>\n",
              "    <tr>\n",
              "      <th>9.221256</th>\n",
              "      <th>6.660866</th>\n",
              "      <th>13.368390</th>\n",
              "      <td>1</td>\n",
              "    </tr>\n",
              "    <tr>\n",
              "      <th>9.343541</th>\n",
              "      <th>6.778814</th>\n",
              "      <th>13.384691</th>\n",
              "      <td>1</td>\n",
              "    </tr>\n",
              "    <tr>\n",
              "      <th>10.513823</th>\n",
              "      <th>7.906017</th>\n",
              "      <th>14.668463</th>\n",
              "      <td>1</td>\n",
              "    </tr>\n",
              "    <tr>\n",
              "      <th rowspan=\"4\" valign=\"top\">3.0</th>\n",
              "      <th>9.025336</th>\n",
              "      <th>6.543322</th>\n",
              "      <th>13.083226</th>\n",
              "      <td>1</td>\n",
              "    </tr>\n",
              "    <tr>\n",
              "      <th>9.265432</th>\n",
              "      <th>6.762594</th>\n",
              "      <th>13.418089</th>\n",
              "      <td>1</td>\n",
              "    </tr>\n",
              "    <tr>\n",
              "      <th>9.564997</th>\n",
              "      <th>6.924768</th>\n",
              "      <th>13.769645</th>\n",
              "      <td>1</td>\n",
              "    </tr>\n",
              "    <tr>\n",
              "      <th>9.800348</th>\n",
              "      <th>7.312559</th>\n",
              "      <th>13.934920</th>\n",
              "      <td>1</td>\n",
              "    </tr>\n",
              "    <tr>\n",
              "      <th rowspan=\"4\" valign=\"top\">4.0</th>\n",
              "      <th>8.992251</th>\n",
              "      <th>6.450159</th>\n",
              "      <th>13.017456</th>\n",
              "      <td>1</td>\n",
              "    </tr>\n",
              "    <tr>\n",
              "      <th>9.226497</th>\n",
              "      <th>6.732540</th>\n",
              "      <th>13.255442</th>\n",
              "      <td>1</td>\n",
              "    </tr>\n",
              "    <tr>\n",
              "      <th>9.444524</th>\n",
              "      <th>7.003876</th>\n",
              "      <th>13.173550</th>\n",
              "      <td>1</td>\n",
              "    </tr>\n",
              "    <tr>\n",
              "      <th>9.844946</th>\n",
              "      <th>7.176555</th>\n",
              "      <th>14.125082</th>\n",
              "      <td>1</td>\n",
              "    </tr>\n",
              "    <tr>\n",
              "      <th rowspan=\"4\" valign=\"top\">5.0</th>\n",
              "      <th>9.100439</th>\n",
              "      <th>6.599895</th>\n",
              "      <th>13.116543</th>\n",
              "      <td>1</td>\n",
              "    </tr>\n",
              "    <tr>\n",
              "      <th>9.131725</th>\n",
              "      <th>6.617025</th>\n",
              "      <th>13.141582</th>\n",
              "      <td>1</td>\n",
              "    </tr>\n",
              "    <tr>\n",
              "      <th>9.477013</th>\n",
              "      <th>6.972421</th>\n",
              "      <th>13.473800</th>\n",
              "      <td>1</td>\n",
              "    </tr>\n",
              "    <tr>\n",
              "      <th>9.554327</th>\n",
              "      <th>6.981486</th>\n",
              "      <th>13.524419</th>\n",
              "      <td>1</td>\n",
              "    </tr>\n",
              "  </tbody>\n",
              "</table>\n",
              "</div>"
            ],
            "text/plain": [
              "                                          Periodo\n",
              "Periodo_cat Total     Hombres  Mujeres           \n",
              "2.0         9.034342  6.558011 13.055288        1\n",
              "            9.221256  6.660866 13.368390        1\n",
              "            9.343541  6.778814 13.384691        1\n",
              "            10.513823 7.906017 14.668463        1\n",
              "3.0         9.025336  6.543322 13.083226        1\n",
              "            9.265432  6.762594 13.418089        1\n",
              "            9.564997  6.924768 13.769645        1\n",
              "            9.800348  7.312559 13.934920        1\n",
              "4.0         8.992251  6.450159 13.017456        1\n",
              "            9.226497  6.732540 13.255442        1\n",
              "            9.444524  7.003876 13.173550        1\n",
              "            9.844946  7.176555 14.125082        1\n",
              "5.0         9.100439  6.599895 13.116543        1\n",
              "            9.131725  6.617025 13.141582        1\n",
              "            9.477013  6.972421 13.473800        1\n",
              "            9.554327  6.981486 13.524419        1"
            ]
          },
          "metadata": {
            "tags": []
          },
          "execution_count": 82
        }
      ]
    },
    {
      "cell_type": "code",
      "metadata": {
        "id": "OwB0C8EiT3aD",
        "colab_type": "code",
        "colab": {
          "base_uri": "https://localhost:8080/",
          "height": 576
        },
        "outputId": "881348ee-da58-4d79-faeb-a20f6b549a23"
      },
      "source": [
        "df_copy.groupby([\"Periodo_cat\", \"Total\", \"Hombres\", \"Mujeres\"]).count()"
      ],
      "execution_count": 83,
      "outputs": [
        {
          "output_type": "execute_result",
          "data": {
            "text/html": [
              "<div>\n",
              "<style scoped>\n",
              "    .dataframe tbody tr th:only-of-type {\n",
              "        vertical-align: middle;\n",
              "    }\n",
              "\n",
              "    .dataframe tbody tr th {\n",
              "        vertical-align: top;\n",
              "    }\n",
              "\n",
              "    .dataframe thead th {\n",
              "        text-align: right;\n",
              "    }\n",
              "</style>\n",
              "<table border=\"1\" class=\"dataframe\">\n",
              "  <thead>\n",
              "    <tr style=\"text-align: right;\">\n",
              "      <th></th>\n",
              "      <th></th>\n",
              "      <th></th>\n",
              "      <th></th>\n",
              "      <th>Periodo</th>\n",
              "    </tr>\n",
              "    <tr>\n",
              "      <th>Periodo_cat</th>\n",
              "      <th>Total</th>\n",
              "      <th>Hombres</th>\n",
              "      <th>Mujeres</th>\n",
              "      <th></th>\n",
              "    </tr>\n",
              "  </thead>\n",
              "  <tbody>\n",
              "    <tr>\n",
              "      <th rowspan=\"4\" valign=\"top\">2.0</th>\n",
              "      <th>9.034342</th>\n",
              "      <th>6.558011</th>\n",
              "      <th>13.055288</th>\n",
              "      <td>1</td>\n",
              "    </tr>\n",
              "    <tr>\n",
              "      <th>9.221256</th>\n",
              "      <th>6.660866</th>\n",
              "      <th>13.368390</th>\n",
              "      <td>1</td>\n",
              "    </tr>\n",
              "    <tr>\n",
              "      <th>9.343541</th>\n",
              "      <th>6.778814</th>\n",
              "      <th>13.384691</th>\n",
              "      <td>1</td>\n",
              "    </tr>\n",
              "    <tr>\n",
              "      <th>10.513823</th>\n",
              "      <th>7.906017</th>\n",
              "      <th>14.668463</th>\n",
              "      <td>1</td>\n",
              "    </tr>\n",
              "    <tr>\n",
              "      <th rowspan=\"4\" valign=\"top\">3.0</th>\n",
              "      <th>9.025336</th>\n",
              "      <th>6.543322</th>\n",
              "      <th>13.083226</th>\n",
              "      <td>1</td>\n",
              "    </tr>\n",
              "    <tr>\n",
              "      <th>9.265432</th>\n",
              "      <th>6.762594</th>\n",
              "      <th>13.418089</th>\n",
              "      <td>1</td>\n",
              "    </tr>\n",
              "    <tr>\n",
              "      <th>9.564997</th>\n",
              "      <th>6.924768</th>\n",
              "      <th>13.769645</th>\n",
              "      <td>1</td>\n",
              "    </tr>\n",
              "    <tr>\n",
              "      <th>9.800348</th>\n",
              "      <th>7.312559</th>\n",
              "      <th>13.934920</th>\n",
              "      <td>1</td>\n",
              "    </tr>\n",
              "    <tr>\n",
              "      <th rowspan=\"4\" valign=\"top\">4.0</th>\n",
              "      <th>8.992251</th>\n",
              "      <th>6.450159</th>\n",
              "      <th>13.017456</th>\n",
              "      <td>1</td>\n",
              "    </tr>\n",
              "    <tr>\n",
              "      <th>9.226497</th>\n",
              "      <th>6.732540</th>\n",
              "      <th>13.255442</th>\n",
              "      <td>1</td>\n",
              "    </tr>\n",
              "    <tr>\n",
              "      <th>9.444524</th>\n",
              "      <th>7.003876</th>\n",
              "      <th>13.173550</th>\n",
              "      <td>1</td>\n",
              "    </tr>\n",
              "    <tr>\n",
              "      <th>9.844946</th>\n",
              "      <th>7.176555</th>\n",
              "      <th>14.125082</th>\n",
              "      <td>1</td>\n",
              "    </tr>\n",
              "    <tr>\n",
              "      <th rowspan=\"4\" valign=\"top\">5.0</th>\n",
              "      <th>9.100439</th>\n",
              "      <th>6.599895</th>\n",
              "      <th>13.116543</th>\n",
              "      <td>1</td>\n",
              "    </tr>\n",
              "    <tr>\n",
              "      <th>9.131725</th>\n",
              "      <th>6.617025</th>\n",
              "      <th>13.141582</th>\n",
              "      <td>1</td>\n",
              "    </tr>\n",
              "    <tr>\n",
              "      <th>9.477013</th>\n",
              "      <th>6.972421</th>\n",
              "      <th>13.473800</th>\n",
              "      <td>1</td>\n",
              "    </tr>\n",
              "    <tr>\n",
              "      <th>9.554327</th>\n",
              "      <th>6.981486</th>\n",
              "      <th>13.524419</th>\n",
              "      <td>1</td>\n",
              "    </tr>\n",
              "  </tbody>\n",
              "</table>\n",
              "</div>"
            ],
            "text/plain": [
              "                                          Periodo\n",
              "Periodo_cat Total     Hombres  Mujeres           \n",
              "2.0         9.034342  6.558011 13.055288        1\n",
              "            9.221256  6.660866 13.368390        1\n",
              "            9.343541  6.778814 13.384691        1\n",
              "            10.513823 7.906017 14.668463        1\n",
              "3.0         9.025336  6.543322 13.083226        1\n",
              "            9.265432  6.762594 13.418089        1\n",
              "            9.564997  6.924768 13.769645        1\n",
              "            9.800348  7.312559 13.934920        1\n",
              "4.0         8.992251  6.450159 13.017456        1\n",
              "            9.226497  6.732540 13.255442        1\n",
              "            9.444524  7.003876 13.173550        1\n",
              "            9.844946  7.176555 14.125082        1\n",
              "5.0         9.100439  6.599895 13.116543        1\n",
              "            9.131725  6.617025 13.141582        1\n",
              "            9.477013  6.972421 13.473800        1\n",
              "            9.554327  6.981486 13.524419        1"
            ]
          },
          "metadata": {
            "tags": []
          },
          "execution_count": 83
        }
      ]
    },
    {
      "cell_type": "code",
      "metadata": {
        "id": "Joukhs92UJvm",
        "colab_type": "code",
        "colab": {
          "base_uri": "https://localhost:8080/",
          "height": 576
        },
        "outputId": "af472333-a809-49ac-ae41-92f3dbaa80f9"
      },
      "source": [
        "df_copy.groupby([\"Periodo_cat\", \"Total\"]) [[\"Hombres\", \"Mujeres\"]].count()"
      ],
      "execution_count": 84,
      "outputs": [
        {
          "output_type": "execute_result",
          "data": {
            "text/html": [
              "<div>\n",
              "<style scoped>\n",
              "    .dataframe tbody tr th:only-of-type {\n",
              "        vertical-align: middle;\n",
              "    }\n",
              "\n",
              "    .dataframe tbody tr th {\n",
              "        vertical-align: top;\n",
              "    }\n",
              "\n",
              "    .dataframe thead th {\n",
              "        text-align: right;\n",
              "    }\n",
              "</style>\n",
              "<table border=\"1\" class=\"dataframe\">\n",
              "  <thead>\n",
              "    <tr style=\"text-align: right;\">\n",
              "      <th></th>\n",
              "      <th></th>\n",
              "      <th>Hombres</th>\n",
              "      <th>Mujeres</th>\n",
              "    </tr>\n",
              "    <tr>\n",
              "      <th>Periodo_cat</th>\n",
              "      <th>Total</th>\n",
              "      <th></th>\n",
              "      <th></th>\n",
              "    </tr>\n",
              "  </thead>\n",
              "  <tbody>\n",
              "    <tr>\n",
              "      <th rowspan=\"4\" valign=\"top\">2.0</th>\n",
              "      <th>9.034342</th>\n",
              "      <td>1</td>\n",
              "      <td>1</td>\n",
              "    </tr>\n",
              "    <tr>\n",
              "      <th>9.221256</th>\n",
              "      <td>1</td>\n",
              "      <td>1</td>\n",
              "    </tr>\n",
              "    <tr>\n",
              "      <th>9.343541</th>\n",
              "      <td>1</td>\n",
              "      <td>1</td>\n",
              "    </tr>\n",
              "    <tr>\n",
              "      <th>10.513823</th>\n",
              "      <td>1</td>\n",
              "      <td>1</td>\n",
              "    </tr>\n",
              "    <tr>\n",
              "      <th rowspan=\"4\" valign=\"top\">3.0</th>\n",
              "      <th>9.025336</th>\n",
              "      <td>1</td>\n",
              "      <td>1</td>\n",
              "    </tr>\n",
              "    <tr>\n",
              "      <th>9.265432</th>\n",
              "      <td>1</td>\n",
              "      <td>1</td>\n",
              "    </tr>\n",
              "    <tr>\n",
              "      <th>9.564997</th>\n",
              "      <td>1</td>\n",
              "      <td>1</td>\n",
              "    </tr>\n",
              "    <tr>\n",
              "      <th>9.800348</th>\n",
              "      <td>1</td>\n",
              "      <td>1</td>\n",
              "    </tr>\n",
              "    <tr>\n",
              "      <th rowspan=\"4\" valign=\"top\">4.0</th>\n",
              "      <th>8.992251</th>\n",
              "      <td>1</td>\n",
              "      <td>1</td>\n",
              "    </tr>\n",
              "    <tr>\n",
              "      <th>9.226497</th>\n",
              "      <td>1</td>\n",
              "      <td>1</td>\n",
              "    </tr>\n",
              "    <tr>\n",
              "      <th>9.444524</th>\n",
              "      <td>1</td>\n",
              "      <td>1</td>\n",
              "    </tr>\n",
              "    <tr>\n",
              "      <th>9.844946</th>\n",
              "      <td>1</td>\n",
              "      <td>1</td>\n",
              "    </tr>\n",
              "    <tr>\n",
              "      <th rowspan=\"4\" valign=\"top\">5.0</th>\n",
              "      <th>9.100439</th>\n",
              "      <td>1</td>\n",
              "      <td>1</td>\n",
              "    </tr>\n",
              "    <tr>\n",
              "      <th>9.131725</th>\n",
              "      <td>1</td>\n",
              "      <td>1</td>\n",
              "    </tr>\n",
              "    <tr>\n",
              "      <th>9.477013</th>\n",
              "      <td>1</td>\n",
              "      <td>1</td>\n",
              "    </tr>\n",
              "    <tr>\n",
              "      <th>9.554327</th>\n",
              "      <td>1</td>\n",
              "      <td>1</td>\n",
              "    </tr>\n",
              "  </tbody>\n",
              "</table>\n",
              "</div>"
            ],
            "text/plain": [
              "                       Hombres  Mujeres\n",
              "Periodo_cat Total                      \n",
              "2.0         9.034342         1        1\n",
              "            9.221256         1        1\n",
              "            9.343541         1        1\n",
              "            10.513823        1        1\n",
              "3.0         9.025336         1        1\n",
              "            9.265432         1        1\n",
              "            9.564997         1        1\n",
              "            9.800348         1        1\n",
              "4.0         8.992251         1        1\n",
              "            9.226497         1        1\n",
              "            9.444524         1        1\n",
              "            9.844946         1        1\n",
              "5.0         9.100439         1        1\n",
              "            9.131725         1        1\n",
              "            9.477013         1        1\n",
              "            9.554327         1        1"
            ]
          },
          "metadata": {
            "tags": []
          },
          "execution_count": 84
        }
      ]
    },
    {
      "cell_type": "code",
      "metadata": {
        "id": "zfOXYoFOUwSG",
        "colab_type": "code",
        "colab": {
          "base_uri": "https://localhost:8080/",
          "height": 391
        },
        "outputId": "12b37fc8-1298-4ffb-fd05-ecd3286ba171"
      },
      "source": [
        "df_copy.Periodo"
      ],
      "execution_count": 85,
      "outputs": [
        {
          "output_type": "execute_result",
          "data": {
            "text/plain": [
              "0                                                  2016\n",
              "1                                                     I\n",
              "2                                                    II\n",
              "3                                                   III\n",
              "4                                                    IV\n",
              "5                                                  2017\n",
              "6                                                     I\n",
              "7                                                    II\n",
              "8                                                   III\n",
              "9                                                    IV\n",
              "10                                                 2018\n",
              "11                                                    I\n",
              "12                                                   II\n",
              "13                                                  III\n",
              "14                                                   IV\n",
              "15                                                 2019\n",
              "16                                                    I\n",
              "17                                                   II\n",
              "18                                                  III\n",
              "19                                                   IV\n",
              "20    Nota:Debido al mÃ©todo de estimaciÃ³n, las ser...\n",
              "Name: Periodo, dtype: object"
            ]
          },
          "metadata": {
            "tags": []
          },
          "execution_count": 85
        }
      ]
    },
    {
      "cell_type": "code",
      "metadata": {
        "id": "S7_fi7P7U5gd",
        "colab_type": "code",
        "colab": {
          "base_uri": "https://localhost:8080/",
          "height": 80
        },
        "outputId": "d84db2d1-dd26-4ce6-9d65-a63f2fd4aa32"
      },
      "source": [
        "df_sample = df.sample(frac=0.05, random_state=1)\n",
        "df_sample.head()"
      ],
      "execution_count": 86,
      "outputs": [
        {
          "output_type": "execute_result",
          "data": {
            "text/html": [
              "<div>\n",
              "<style scoped>\n",
              "    .dataframe tbody tr th:only-of-type {\n",
              "        vertical-align: middle;\n",
              "    }\n",
              "\n",
              "    .dataframe tbody tr th {\n",
              "        vertical-align: top;\n",
              "    }\n",
              "\n",
              "    .dataframe thead th {\n",
              "        text-align: right;\n",
              "    }\n",
              "</style>\n",
              "<table border=\"1\" class=\"dataframe\">\n",
              "  <thead>\n",
              "    <tr style=\"text-align: right;\">\n",
              "      <th></th>\n",
              "      <th>Periodo</th>\n",
              "      <th>Total</th>\n",
              "      <th>Hombres</th>\n",
              "      <th>Mujeres</th>\n",
              "    </tr>\n",
              "  </thead>\n",
              "  <tbody>\n",
              "    <tr>\n",
              "      <th>15</th>\n",
              "      <td>2019</td>\n",
              "      <td>NaN</td>\n",
              "      <td>NaN</td>\n",
              "      <td>NaN</td>\n",
              "    </tr>\n",
              "  </tbody>\n",
              "</table>\n",
              "</div>"
            ],
            "text/plain": [
              "   Periodo  Total  Hombres  Mujeres\n",
              "15    2019    NaN      NaN      NaN"
            ]
          },
          "metadata": {
            "tags": []
          },
          "execution_count": 86
        }
      ]
    },
    {
      "cell_type": "code",
      "metadata": {
        "id": "S87H776hVAWy",
        "colab_type": "code",
        "colab": {
          "base_uri": "https://localhost:8080/",
          "height": 111
        },
        "outputId": "69faec69-f304-4149-c286-767aac568cd7"
      },
      "source": [
        "df_sample.groupby([\"Periodo\", \"Hombres\"])[[\"Mujeres\", \"Total\"]].agg([np.sum, np.mean,\n",
        "                                                              np.count_nonzero])"
      ],
      "execution_count": 87,
      "outputs": [
        {
          "output_type": "execute_result",
          "data": {
            "text/html": [
              "<div>\n",
              "<style scoped>\n",
              "    .dataframe tbody tr th:only-of-type {\n",
              "        vertical-align: middle;\n",
              "    }\n",
              "\n",
              "    .dataframe tbody tr th {\n",
              "        vertical-align: top;\n",
              "    }\n",
              "\n",
              "    .dataframe thead tr th {\n",
              "        text-align: left;\n",
              "    }\n",
              "\n",
              "    .dataframe thead tr:last-of-type th {\n",
              "        text-align: right;\n",
              "    }\n",
              "</style>\n",
              "<table border=\"1\" class=\"dataframe\">\n",
              "  <thead>\n",
              "    <tr>\n",
              "      <th></th>\n",
              "      <th></th>\n",
              "      <th colspan=\"3\" halign=\"left\">Mujeres</th>\n",
              "      <th colspan=\"3\" halign=\"left\">Total</th>\n",
              "    </tr>\n",
              "    <tr>\n",
              "      <th></th>\n",
              "      <th></th>\n",
              "      <th>sum</th>\n",
              "      <th>mean</th>\n",
              "      <th>count_nonzero</th>\n",
              "      <th>sum</th>\n",
              "      <th>mean</th>\n",
              "      <th>count_nonzero</th>\n",
              "    </tr>\n",
              "    <tr>\n",
              "      <th>Periodo</th>\n",
              "      <th>Hombres</th>\n",
              "      <th></th>\n",
              "      <th></th>\n",
              "      <th></th>\n",
              "      <th></th>\n",
              "      <th></th>\n",
              "      <th></th>\n",
              "    </tr>\n",
              "  </thead>\n",
              "  <tbody>\n",
              "  </tbody>\n",
              "</table>\n",
              "</div>"
            ],
            "text/plain": [
              "Empty DataFrame\n",
              "Columns: [(Mujeres, sum), (Mujeres, mean), (Mujeres, count_nonzero), (Total, sum), (Total, mean), (Total, count_nonzero)]\n",
              "Index: []"
            ]
          },
          "metadata": {
            "tags": []
          },
          "execution_count": 87
        }
      ]
    },
    {
      "cell_type": "markdown",
      "metadata": {
        "id": "wlP3L7HTVZHl",
        "colab_type": "text"
      },
      "source": [
        "Data Visualization"
      ]
    },
    {
      "cell_type": "code",
      "metadata": {
        "id": "qKW1pV32VdnF",
        "colab_type": "code",
        "colab": {
          "base_uri": "https://localhost:8080/",
          "height": 266
        },
        "outputId": "ee48d4fb-392c-4cce-f71a-d0888f5aaf58"
      },
      "source": [
        "%matplotlib inline\n",
        "import matplotlib.pyplot as plt\n",
        "plt.style.use('seaborn-white')\n",
        "\n",
        "ax1 = plt.axes()  # standard axes\n",
        "ax2 = plt.axes([0.65, 0.65, 0.2, 0.2])"
      ],
      "execution_count": 88,
      "outputs": [
        {
          "output_type": "display_data",
          "data": {
            "image/png": "[encoded data removed]",
            "text/plain": [
              "<Figure size 432x288 with 2 Axes>"
            ]
          },
          "metadata": {
            "tags": []
          }
        }
      ]
    },
    {
      "cell_type": "code",
      "metadata": {
        "id": "5F9fHWnpVrHo",
        "colab_type": "code",
        "colab": {
          "base_uri": "https://localhost:8080/",
          "height": 292
        },
        "outputId": "268900c5-872d-4222-8637-d353456e065a"
      },
      "source": [
        "#The equivalent of this command within the object-oriented interface is fig.add_axes()\n",
        "\n",
        "fig = plt.figure()\n",
        "ax1 = fig.add_axes([0.1, 0.5, 0.8, 0.4],\n",
        "                   xticklabels=[], ylim=(-1.2, 1.2))\n",
        "ax2 = fig.add_axes([0.1, 0.1, 0.8, 0.4],\n",
        "                   ylim=(-1.2, 1.2))\n",
        "\n",
        "x = np.linspace(0, 10)\n",
        "ax1.plot(np.sin(x))\n",
        "ax2.plot(np.cos(x))"
      ],
      "execution_count": 89,
      "outputs": [
        {
          "output_type": "execute_result",
          "data": {
            "text/plain": [
              "[<matplotlib.lines.Line2D at 0x7f13570211d0>]"
            ]
          },
          "metadata": {
            "tags": []
          },
          "execution_count": 89
        },
        {
          "output_type": "display_data",
          "data": {
            "image/png": "[encoded data removed]",
            "text/plain": [
              "<Figure size 432x288 with 2 Axes>"
            ]
          },
          "metadata": {
            "tags": []
          }
        }
      ]
    },
    {
      "cell_type": "code",
      "metadata": {
        "id": "qYQqCWNqVyFg",
        "colab_type": "code",
        "colab": {
          "base_uri": "https://localhost:8080/",
          "height": 266
        },
        "outputId": "edc397ed-c410-4dcc-88e3-3df81a324ef3"
      },
      "source": [
        "# The lowest level of these is plt.subplot(), which creates a single subplot within a grid\n",
        "for i in range(1, 7):\n",
        "    plt.subplot(2, 3, i)\n",
        "    plt.text(0.5, 0.5, str((2, 3, i)),\n",
        "             fontsize=18, ha='center')"
      ],
      "execution_count": 90,
      "outputs": [
        {
          "output_type": "display_data",
          "data": {
            "image/png": "[encoded data removed]",
            "text/plain": [
              "<Figure size 432x288 with 6 Axes>"
            ]
          },
          "metadata": {
            "tags": []
          }
        }
      ]
    },
    {
      "cell_type": "code",
      "metadata": {
        "id": "q-GQIYZyV5hX",
        "colab_type": "code",
        "colab": {
          "base_uri": "https://localhost:8080/",
          "height": 266
        },
        "outputId": "09bcc942-df54-48d1-a4f2-439fd2e04a6f"
      },
      "source": [
        "# plt.subplots_adjust can be used to adjust the spacing between these plots\n",
        "fig = plt.figure()\n",
        "fig.subplots_adjust(hspace=0.4, wspace=0.4)\n",
        "for i in range(1, 7):\n",
        "    ax = fig.add_subplot(2, 3, i)\n",
        "    ax.text(0.5, 0.5, str((2, 3, i)),\n",
        "           fontsize=18, ha='center')"
      ],
      "execution_count": 91,
      "outputs": [
        {
          "output_type": "display_data",
          "data": {
            "image/png": "[encoded data removed]",
            "text/plain": [
              "<Figure size 432x288 with 6 Axes>"
            ]
          },
          "metadata": {
            "tags": []
          }
        }
      ]
    },
    {
      "cell_type": "code",
      "metadata": {
        "id": "U2PyLkWdWC0E",
        "colab_type": "code",
        "colab": {
          "base_uri": "https://localhost:8080/",
          "height": 266
        },
        "outputId": "0703caab-82c6-4d84-e0bf-744e11d7dbd0"
      },
      "source": [
        "fig, ax = plt.subplots(2, 3, sharex='col', sharey='row')"
      ],
      "execution_count": 92,
      "outputs": [
        {
          "output_type": "display_data",
          "data": {
            "image/png": "[encoded data removed]",
            "text/plain": [
              "<Figure size 432x288 with 6 Axes>"
            ]
          },
          "metadata": {
            "tags": []
          }
        }
      ]
    },
    {
      "cell_type": "code",
      "metadata": {
        "id": "kqq0j5lQWItH",
        "colab_type": "code",
        "colab": {
          "base_uri": "https://localhost:8080/",
          "height": 266
        },
        "outputId": "9734103c-918a-4572-87bc-255506fb88a9"
      },
      "source": [
        "# axes are in a two-dimensional array, indexed by [row, col]\n",
        "for i in range(2):\n",
        "    for j in range(3):\n",
        "        ax[i, j].text(0.5, 0.5, str((i, j)),\n",
        "                      fontsize=18, ha='center')\n",
        "fig"
      ],
      "execution_count": 93,
      "outputs": [
        {
          "output_type": "execute_result",
          "data": {
            "image/png": "[encoded data removed]",
            "text/plain": [
              "<Figure size 432x288 with 6 Axes>"
            ]
          },
          "metadata": {
            "tags": []
          },
          "execution_count": 93
        }
      ]
    },
    {
      "cell_type": "code",
      "metadata": {
        "id": "JOBIfyNsWSgf",
        "colab_type": "code",
        "colab": {
          "base_uri": "https://localhost:8080/",
          "height": 371
        },
        "outputId": "349f5f76-af6c-436e-9b99-2d674fdd31a9"
      },
      "source": [
        "# Create some normally distributed data\n",
        "mean = [0, 0]\n",
        "cov = [[1, 1], [1, 2]]\n",
        "x, y = np.random.multivariate_normal(mean, cov, 3000).T\n",
        "\n",
        "# Set up the axes with gridspec\n",
        "fig = plt.figure(figsize=(6, 6))\n",
        "grid = plt.GridSpec(4, 4, hspace=0.2, wspace=0.2)\n",
        "main_ax = fig.add_subplot(grid[:-1, 1:])\n",
        "y_hist = fig.add_subplot(grid[:-1, 0], xticklabels=[], sharey=main_ax)\n",
        "x_hist = fig.add_subplot(grid[-1, 1:], yticklabels=[], sharex=main_ax)\n",
        "\n",
        "# scatter points on the main axes\n",
        "main_ax.plot(x, y, 'ok', markersize=3, alpha=0.2)\n",
        "\n",
        "# histogram on the attached axes\n",
        "x_hist.hist(x, 40, histtype='stepfilled',\n",
        "            orientation='vertical', color='gray')\n",
        "x_hist.invert_yaxis()\n",
        "\n",
        "y_hist.hist(y, 40, histtype='stepfilled',\n",
        "            orientation='horizontal', color='gray')\n",
        "y_hist.invert_xaxis()"
      ],
      "execution_count": 94,
      "outputs": [
        {
          "output_type": "display_data",
          "data": {
            "image/png": "[encoded data removed]",
            "text/plain": [
              "<Figure size 432x432 with 3 Axes>"
            ]
          },
          "metadata": {
            "tags": []
          }
        }
      ]
    },
    {
      "cell_type": "code",
      "metadata": {
        "id": "eYN5Q9ggWWxL",
        "colab_type": "code",
        "colab": {
          "base_uri": "https://localhost:8080/",
          "height": 293
        },
        "outputId": "70b30baf-f91e-429b-de34-fa0a02449cb8"
      },
      "source": [
        "#figure.savefig('.../.jpeg')\n",
        "#df_sample['Periodo'] = dropna()\n",
        "df_sample['Periodo'] = df_sample['Periodo'].astype('int64')\n",
        "\n",
        "df_sample.plot(kind='scatter',x='Periodo',y='Hombres')"
      ],
      "execution_count": 97,
      "outputs": [
        {
          "output_type": "execute_result",
          "data": {
            "text/plain": [
              "<matplotlib.axes._subplots.AxesSubplot at 0x7f1356c33c88>"
            ]
          },
          "metadata": {
            "tags": []
          },
          "execution_count": 97
        },
        {
          "output_type": "display_data",
          "data": {
            "image/png": "[encoded data removed]",
            "text/plain": [
              "<Figure size 432x288 with 1 Axes>"
            ]
          },
          "metadata": {
            "tags": []
          }
        }
      ]
    },
    {
      "cell_type": "markdown",
      "metadata": {
        "id": "4OwAjd04W96l",
        "colab_type": "text"
      },
      "source": [
        "Histograms"
      ]
    },
    {
      "cell_type": "code",
      "metadata": {
        "id": "0am9bdorW9EA",
        "colab_type": "code",
        "colab": {
          "base_uri": "https://localhost:8080/",
          "height": 308
        },
        "outputId": "35f98bb2-2780-417d-b1e2-d8bcb5cb1a9c"
      },
      "source": [
        "plt.hist(df_sample['Periodo'])\n",
        "plt.xlabel('Periodo')\n",
        "plt.ylabel('Frequency')\n",
        "plt.title('Frequency of Periodo')"
      ],
      "execution_count": 100,
      "outputs": [
        {
          "output_type": "execute_result",
          "data": {
            "text/plain": [
              "Text(0.5, 1.0, 'Frequency of Periodo')"
            ]
          },
          "metadata": {
            "tags": []
          },
          "execution_count": 100
        },
        {
          "output_type": "display_data",
          "data": {
            "image/png": "[encoded data removed]",
            "text/plain": [
              "<Figure size 432x288 with 1 Axes>"
            ]
          },
          "metadata": {
            "tags": []
          }
        }
      ]
    },
    {
      "cell_type": "code",
      "metadata": {
        "id": "njv7HbmSYFHb",
        "colab_type": "code",
        "colab": {
          "base_uri": "https://localhost:8080/",
          "height": 294
        },
        "outputId": "daaa5eaa-a385-4d21-ee8e-fe045fe80b3c"
      },
      "source": [
        "#plt.boxplot(df_sample['Periodo'])\n",
        "plt.boxplot(df_sample['Periodo'], showmeans=True, meanline=True)\n",
        "plt.ylabel('Periodo count')\n",
        "plt.title('Box Plot of Periodo count')"
      ],
      "execution_count": 103,
      "outputs": [
        {
          "output_type": "execute_result",
          "data": {
            "text/plain": [
              "Text(0.5, 1.0, 'Box Plot of Periodo count')"
            ]
          },
          "metadata": {
            "tags": []
          },
          "execution_count": 103
        },
        {
          "output_type": "display_data",
          "data": {
            "image/png": "[encoded data removed]",
            "text/plain": [
              "<Figure size 432x288 with 1 Axes>"
            ]
          },
          "metadata": {
            "tags": []
          }
        }
      ]
    }
  ]
}